{
  "nbformat": 4,
  "nbformat_minor": 0,
  "metadata": {
    "colab": {
      "provenance": [],
      "name": "Basic Python.ipynb"
    },
    "kernelspec": {
      "name": "python3",
      "display_name": "Python 3"
    },
    "language_info": {
      "name": "python"
    }
  },
  "cells": [
    {
      "cell_type": "code",
      "execution_count": null,
      "metadata": {
        "colab": {
          "base_uri": "https://localhost:8080/"
        },
        "id": "HpmbKqI7jltH",
        "outputId": "0ec1bf68-5f68-4ec7-f746-ea081ec8cab5"
      },
      "outputs": [
        {
          "output_type": "stream",
          "name": "stdout",
          "text": [
            "hello world\n"
          ]
        }
      ],
      "source": [
        "print(\"hello mm\")"
      ]
    },
    {
      "cell_type": "code",
      "source": [
        "# Day 3\n",
        "#creating s simple list\n",
        "l=[10,20.3,\"Ntt\",3+4j]\n",
        "print (l)\n",
        "print(type(l))\n",
        "print (l[-2])\n",
        "\n"
      ],
      "metadata": {
        "colab": {
          "base_uri": "https://localhost:8080/"
        },
        "id": "uJl5DeSfTKZZ",
        "outputId": "a520af69-18ea-4773-f1ef-54967da90bc2"
      },
      "execution_count": null,
      "outputs": [
        {
          "output_type": "stream",
          "name": "stdout",
          "text": [
            "[10, 20.3, 'Ntt', (3+4j)]\n",
            "<class 'list'>\n",
            "Ntt\n"
          ]
        }
      ]
    },
    {
      "cell_type": "code",
      "source": [
        "l={10:\"Arjith\",20:\"Muni\",30:\"Rovbert\"}\n",
        "print (type(l))\n"
      ],
      "metadata": {
        "colab": {
          "base_uri": "https://localhost:8080/"
        },
        "id": "-d8b2_yr5W2g",
        "outputId": "ba9f7abe-64d3-40e9-92a8-4a7d43b04c4c"
      },
      "execution_count": null,
      "outputs": [
        {
          "output_type": "stream",
          "name": "stdout",
          "text": [
            "<class 'dict'>\n"
          ]
        }
      ]
    },
    {
      "cell_type": "code",
      "source": [
        "l={100:\"Arjith\",20:\"Muni\",333:\"Robert\"}\n",
        "print (l[333])"
      ],
      "metadata": {
        "colab": {
          "base_uri": "https://localhost:8080/"
        },
        "id": "raP8IFlJ55lw",
        "outputId": "0fd21572-647a-41a1-bf23-9fa314a62bdb"
      },
      "execution_count": null,
      "outputs": [
        {
          "output_type": "stream",
          "name": "stdout",
          "text": [
            "Robert\n"
          ]
        }
      ]
    },
    {
      "cell_type": "code",
      "source": [
        "s = {12,13,14,14,\"Hello\",\"Hello\"}\n",
        "\n",
        "print(s[0])\n"
      ],
      "metadata": {
        "colab": {
          "base_uri": "https://localhost:8080/",
          "height": 176
        },
        "id": "fuCKuvtG6WuI",
        "outputId": "1605a84a-8646-4d4e-d99f-4390d2fffcd2"
      },
      "execution_count": null,
      "outputs": [
        {
          "output_type": "error",
          "ename": "TypeError",
          "evalue": "'set' object is not subscriptable",
          "traceback": [
            "\u001b[0;31m---------------------------------------------------------------------------\u001b[0m",
            "\u001b[0;31mTypeError\u001b[0m                                 Traceback (most recent call last)",
            "\u001b[0;32m<ipython-input-33-68a7ed448a70>\u001b[0m in \u001b[0;36m<cell line: 0>\u001b[0;34m()\u001b[0m\n\u001b[1;32m      1\u001b[0m \u001b[0ms\u001b[0m \u001b[0;34m=\u001b[0m \u001b[0;34m{\u001b[0m\u001b[0;36m12\u001b[0m\u001b[0;34m,\u001b[0m\u001b[0;36m13\u001b[0m\u001b[0;34m,\u001b[0m\u001b[0;36m14\u001b[0m\u001b[0;34m,\u001b[0m\u001b[0;36m14\u001b[0m\u001b[0;34m,\u001b[0m\u001b[0;34m\"Hello\"\u001b[0m\u001b[0;34m,\u001b[0m\u001b[0;34m\"Hello\"\u001b[0m\u001b[0;34m}\u001b[0m\u001b[0;34m\u001b[0m\u001b[0;34m\u001b[0m\u001b[0m\n\u001b[1;32m      2\u001b[0m \u001b[0;34m\u001b[0m\u001b[0m\n\u001b[0;32m----> 3\u001b[0;31m \u001b[0mprint\u001b[0m\u001b[0;34m(\u001b[0m\u001b[0ms\u001b[0m\u001b[0;34m[\u001b[0m\u001b[0;36m0\u001b[0m\u001b[0;34m]\u001b[0m\u001b[0;34m)\u001b[0m\u001b[0;34m\u001b[0m\u001b[0;34m\u001b[0m\u001b[0m\n\u001b[0m",
            "\u001b[0;31mTypeError\u001b[0m: 'set' object is not subscriptable"
          ]
        }
      ]
    },
    {
      "cell_type": "code",
      "source": [
        "s = {12, 13, 14, 14, \"Hello\", \"Hello\"}\n",
        "\n",
        "for element in s:\n",
        "    print(element)"
      ],
      "metadata": {
        "colab": {
          "base_uri": "https://localhost:8080/"
        },
        "id": "ERyEdD3f7VKC",
        "outputId": "fe91db04-6ed0-4a0c-cbe4-8521e0b5cda0"
      },
      "execution_count": null,
      "outputs": [
        {
          "output_type": "stream",
          "name": "stdout",
          "text": [
            "12\n",
            "13\n",
            "14\n",
            "Hello\n"
          ]
        }
      ]
    },
    {
      "cell_type": "code",
      "source": [
        "s = {12, 13, 14, \"Hello\", \"hello\"}\n",
        "\n",
        "s_list = list(s)\n",
        "print(s_list[4])  # Access the first element of the list"
      ],
      "metadata": {
        "colab": {
          "base_uri": "https://localhost:8080/"
        },
        "id": "zUQxzsWV7Ylz",
        "outputId": "02d4a3ca-a402-403b-af55-b5c84078f588"
      },
      "execution_count": null,
      "outputs": [
        {
          "output_type": "stream",
          "name": "stdout",
          "text": [
            "14\n"
          ]
        }
      ]
    },
    {
      "cell_type": "code",
      "source": [
        "#isinstance\n",
        "a=10\n",
        "print (isinstance(a,int))\n"
      ],
      "metadata": {
        "colab": {
          "base_uri": "https://localhost:8080/"
        },
        "id": "_5wHueRsT9e7",
        "outputId": "3e348658-00e0-466c-8dfe-22913d8e5002"
      },
      "execution_count": null,
      "outputs": [
        {
          "output_type": "stream",
          "name": "stdout",
          "text": [
            "True\n"
          ]
        }
      ]
    },
    {
      "cell_type": "code",
      "source": [
        "#variable annotations\n",
        "name: str = \"NTT\"\n",
        "print(name)\n",
        "print(__annotations__['name'])"
      ],
      "metadata": {
        "colab": {
          "base_uri": "https://localhost:8080/"
        },
        "id": "xQHytdgQUK9_",
        "outputId": "2e12aa6c-6ccf-4ed4-83f9-d18b6723f4f4"
      },
      "execution_count": null,
      "outputs": [
        {
          "output_type": "stream",
          "name": "stdout",
          "text": [
            "NTT\n",
            "<class 'str'>\n"
          ]
        }
      ]
    },
    {
      "cell_type": "code",
      "source": [
        "name: str = \"NTT\"\n",
        "print(name)\n",
        "print(type(name))\n",
        "print(__annotations__['name'])\n"
      ],
      "metadata": {
        "id": "k_9V-vBIUxKK"
      },
      "execution_count": null,
      "outputs": []
    },
    {
      "cell_type": "code",
      "source": [
        "name: int = 10\n",
        "print(name)\n",
        "print(__annotations__['name'])"
      ],
      "metadata": {
        "colab": {
          "base_uri": "https://localhost:8080/"
        },
        "id": "HaaltRd32J1d",
        "outputId": "eb403c4e-bd66-4584-f7fb-13a9555635d3"
      },
      "execution_count": null,
      "outputs": [
        {
          "output_type": "stream",
          "name": "stdout",
          "text": [
            "10\n",
            "<class 'int'>\n"
          ]
        }
      ]
    },
    {
      "cell_type": "code",
      "source": [],
      "metadata": {
        "id": "pNjjTUeXWcwI"
      },
      "execution_count": null,
      "outputs": []
    },
    {
      "cell_type": "code",
      "source": [
        "aaa=10\n",
        "print(aaa)\n",
        "print(type(aaa))\n",
        "\n",
        "print(__annotations__['aaa'])\n"
      ],
      "metadata": {
        "colab": {
          "base_uri": "https://localhost:8080/",
          "height": 211
        },
        "id": "7c6ghR13Vzrp",
        "outputId": "db6853c5-5919-4877-9437-94b06a24acbf"
      },
      "execution_count": null,
      "outputs": [
        {
          "output_type": "stream",
          "name": "stdout",
          "text": [
            "10\n",
            "<class 'int'>\n"
          ]
        },
        {
          "output_type": "error",
          "ename": "NameError",
          "evalue": "name '__annotations__' is not defined",
          "traceback": [
            "\u001b[0;31m---------------------------------------------------------------------------\u001b[0m",
            "\u001b[0;31mNameError\u001b[0m                                 Traceback (most recent call last)",
            "\u001b[0;32m<ipython-input-1-34cce9b43018>\u001b[0m in \u001b[0;36m<cell line: 0>\u001b[0;34m()\u001b[0m\n\u001b[1;32m      3\u001b[0m \u001b[0mprint\u001b[0m\u001b[0;34m(\u001b[0m\u001b[0mtype\u001b[0m\u001b[0;34m(\u001b[0m\u001b[0maaa\u001b[0m\u001b[0;34m)\u001b[0m\u001b[0;34m)\u001b[0m\u001b[0;34m\u001b[0m\u001b[0;34m\u001b[0m\u001b[0m\n\u001b[1;32m      4\u001b[0m \u001b[0;34m\u001b[0m\u001b[0m\n\u001b[0;32m----> 5\u001b[0;31m \u001b[0mprint\u001b[0m\u001b[0;34m(\u001b[0m\u001b[0m__annotations__\u001b[0m\u001b[0;34m[\u001b[0m\u001b[0;34m'aaa'\u001b[0m\u001b[0;34m]\u001b[0m\u001b[0;34m)\u001b[0m\u001b[0;34m\u001b[0m\u001b[0;34m\u001b[0m\u001b[0m\n\u001b[0m",
            "\u001b[0;31mNameError\u001b[0m: name '__annotations__' is not defined"
          ]
        }
      ]
    },
    {
      "cell_type": "code",
      "source": [
        "# variable annotation\n",
        "\n",
        "aa: int = 10\n",
        "print(aa)\n",
        "\n",
        "print(__annotations__['aa'])\n",
        "print(type(aa))\n"
      ],
      "metadata": {
        "colab": {
          "base_uri": "https://localhost:8080/"
        },
        "id": "hlDFRsG0Wev7",
        "outputId": "02dbf3b6-738f-4036-f103-2451d17e8ebb"
      },
      "execution_count": null,
      "outputs": [
        {
          "output_type": "stream",
          "name": "stdout",
          "text": [
            "10\n",
            "<class 'int'>\n",
            "<class 'int'>\n"
          ]
        }
      ]
    },
    {
      "cell_type": "code",
      "source": [
        "#tuple - unable to chnage the content at run time t = (1,2,3..) , but list we can change it L = [1,2,3,4,...]\n"
      ],
      "metadata": {
        "id": "-zs2BtDYYOX0"
      },
      "execution_count": null,
      "outputs": []
    },
    {
      "cell_type": "code",
      "source": [
        "#dictionary  d = {a:1, b:2, c:3} - a, b, c are index and 1 2 3 are value"
      ],
      "metadata": {
        "id": "7eZYgoGnZkGa"
      },
      "execution_count": null,
      "outputs": []
    },
    {
      "cell_type": "code",
      "source": [
        "print(18//4)"
      ],
      "metadata": {
        "colab": {
          "base_uri": "https://localhost:8080/"
        },
        "id": "vVrHlCjgfrpB",
        "outputId": "1ac860a7-85c4-4d22-ab3a-251fd6e195e7"
      },
      "execution_count": null,
      "outputs": [
        {
          "output_type": "stream",
          "name": "stdout",
          "text": [
            "4\n"
          ]
        }
      ]
    },
    {
      "cell_type": "code",
      "source": [
        "print(18%4)"
      ],
      "metadata": {
        "colab": {
          "base_uri": "https://localhost:8080/"
        },
        "id": "ez0Q5SYLfwVB",
        "outputId": "5675b57b-ff1d-431b-e457-c78ba59c486b"
      },
      "execution_count": null,
      "outputs": [
        {
          "output_type": "stream",
          "name": "stdout",
          "text": [
            "2\n"
          ]
        }
      ]
    },
    {
      "cell_type": "code",
      "source": [
        "print((18.0//4))"
      ],
      "metadata": {
        "colab": {
          "base_uri": "https://localhost:8080/"
        },
        "id": "9xQ4YNdEf0WQ",
        "outputId": "c98aceef-7719-4fcf-f8f3-d4570b2b5379"
      },
      "execution_count": null,
      "outputs": [
        {
          "output_type": "stream",
          "name": "stdout",
          "text": [
            "4.0\n"
          ]
        }
      ]
    },
    {
      "cell_type": "code",
      "source": [
        "print(\"\"\"  working on multiline\n",
        "  sample \"\"\")"
      ],
      "metadata": {
        "colab": {
          "base_uri": "https://localhost:8080/"
        },
        "id": "pGTzI4EIf4L5",
        "outputId": "135722f1-0efe-42f4-908b-cb7a85673021"
      },
      "execution_count": null,
      "outputs": [
        {
          "output_type": "stream",
          "name": "stdout",
          "text": [
            "  working on multiline\n",
            "  sample \n"
          ]
        }
      ]
    },
    {
      "cell_type": "code",
      "source": [
        "#1-1 = 0 , 2-1 = 1, 3-1 = 2 (last param)\n",
        "Name = \"Hello world\"\n",
        "print(Name[0])\n",
        "print(Name[-8])\n",
        "\n",
        "print(Name[0:6:3])"
      ],
      "metadata": {
        "colab": {
          "base_uri": "https://localhost:8080/"
        },
        "id": "FCzAbliMg0ld",
        "outputId": "8f789eb1-0008-435b-9acb-573208c75d4d"
      },
      "execution_count": null,
      "outputs": [
        {
          "output_type": "stream",
          "name": "stdout",
          "text": [
            "H\n",
            "l\n",
            "Hl\n"
          ]
        }
      ]
    },
    {
      "cell_type": "code",
      "source": [
        "#slicing (its like substring)\n",
        "Name = \"Bangalore\"\n",
        "\n",
        "\n",
        "print(Name[ :5:1])\n",
        "print(Name[2: :1])\n",
        "print(Name[0:6: ])\n",
        "print(Name[ : : ])\n",
        "print(Name[2:7:1])\n",
        "\n",
        "# s[Start:Stop:Step]\n",
        "# if not given for start it will consider as 0, 2 paramater will take as entire , if 3rd is emty it will take 0"
      ],
      "metadata": {
        "colab": {
          "base_uri": "https://localhost:8080/"
        },
        "id": "qmk0v9VFjQRQ",
        "outputId": "56246301-0488-4292-acb9-06f713c50595"
      },
      "execution_count": null,
      "outputs": [
        {
          "output_type": "stream",
          "name": "stdout",
          "text": [
            "Banga\n",
            "ngalore\n",
            "Bangal\n",
            "Bangalore\n",
            "ngalo\n"
          ]
        }
      ]
    },
    {
      "cell_type": "code",
      "source": [],
      "metadata": {
        "id": "C3_ScG4nklJt"
      },
      "execution_count": null,
      "outputs": []
    },
    {
      "cell_type": "code",
      "source": [],
      "metadata": {
        "id": "LHfMsSphqX1v"
      },
      "execution_count": null,
      "outputs": []
    },
    {
      "cell_type": "markdown",
      "source": [
        "Dictionary 04/25/2025"
      ],
      "metadata": {
        "id": "hw__gyphbBj5"
      }
    },
    {
      "cell_type": "code",
      "source": [
        "# Dictionary Creatation\n",
        "d1 = { (1,2):[1,2,3],(1,2):[1,2,3]}\n",
        "print(d1)\n",
        "d2 = { (1,2):[1,2,3],(2,1):[1,2,3]}\n",
        "print(d2)\n",
        "print(d2[(2,1)])\n",
        "d3 = { 1:2, 1:3}\n",
        "print(d3)"
      ],
      "metadata": {
        "colab": {
          "base_uri": "https://localhost:8080/"
        },
        "id": "gGna9j-LbFGn",
        "outputId": "60bda00c-01e8-440d-b708-9e8057042478"
      },
      "execution_count": null,
      "outputs": [
        {
          "output_type": "stream",
          "name": "stdout",
          "text": [
            "{(1, 2): [1, 2, 3]}\n",
            "{(1, 2): [1, 2, 3], (2, 1): [1, 2, 3]}\n",
            "[1, 2, 3]\n",
            "{1: 3}\n"
          ]
        }
      ]
    },
    {
      "cell_type": "code",
      "source": [
        "# define function\n",
        "def fun_res(n1,n2):\n",
        "  result = n1+n2\n",
        "  return result\n",
        "\n",
        "ans = fun_res(2,3)\n",
        "print(ans)\n"
      ],
      "metadata": {
        "colab": {
          "base_uri": "https://localhost:8080/"
        },
        "id": "6uOae-BWPB6m",
        "outputId": "aed5b014-d5cb-4994-93fd-8df9e412d07d"
      },
      "execution_count": null,
      "outputs": [
        {
          "output_type": "stream",
          "name": "stdout",
          "text": [
            "5\n"
          ]
        }
      ]
    },
    {
      "cell_type": "code",
      "source": [
        "# Mini Project\n",
        "def create_student_database():\n",
        "  # create a empty dict\n",
        "  database = {}\n",
        "  return database\n",
        "def add_student(database):\n",
        "  # Add a New student\n",
        "  usn = input(\"enter the student usn no\")\n",
        "  if usn in database:\n",
        "    print(\"Student already exists in the database\")\n",
        "  else:\n",
        "    name = input(\"enter the student name\")\n",
        "    major = input(\"enter the student major\")\n",
        "    database[usn] = {'Name':name,'Major':major} # Key value pair added to dictionary\n",
        "    print(\"Student added successfully\")\n",
        "    return database\n",
        "\n",
        "def Find_Student_info(database):\n",
        "  # Retrive information of the student\n",
        "  student_Id = input(\"enter the student USN no\")\n",
        "  student_info = database.get(student_Id)\n",
        "\n",
        "  if student_info:\n",
        "    print(\"Student Information:\")\n",
        "    print(\"Name:\", student_info['Name'])\n",
        "    print(\"Major:\", student_info['Major'])\n",
        "  else:\n",
        "    print(\"Student not found in the database.\")\n",
        "\n",
        "def display_database(database):\n",
        "  #print the contenet of the database\n",
        "  if database:\n",
        "    print(\"Student Database:\")\n",
        "    for usn, student_info in database.items():\n",
        "      print(\"USN:\", usn)\n",
        "      print(\"Name:\", student_info['Name'])\n",
        "      print(\"Major:\", student_info['Major'])\n",
        "      print()\n",
        "    else:\n",
        "      print(\"Database is empty\")\n",
        "\n",
        "def Remove_student(database):\n",
        "    #Remove the student from the DB\n",
        "    student_id = input(\"Enter the student USN no to remove:\")\n",
        "    if student_id in database:\n",
        "      del database[student_id]\n",
        "      print(\"Student removed successfully\")\n",
        "    else:\n",
        "      print(\"Student not found in the database\")\n",
        "\n",
        "# Main Program Loop\n",
        "student_database = create_student_database ()\n",
        "\n",
        "while True:\n",
        "  print(\"Student Database Management System\")\n",
        "  print(\"1. Add Student\")\n",
        "  print(\"2. Find Student Information\")\n",
        "  print(\"3. Display Database\")\n",
        "  print(\"4. Delete student\")\n",
        "  print(\"4. Exit\")\n",
        "  choice = input(\"Enter your choice (1/2/3/4/5):\")\n",
        "  if choice == '1':\n",
        "    add_student(student_database)\n",
        "  elif choice == '2':\n",
        "    Find_Student_info(student_database)\n",
        "  elif choice == '3':\n",
        "    display_database(student_database)\n",
        "  elif choice == '4':\n",
        "    Remove_student(student_database)\n",
        "  elif choice == '5':\n",
        "    print(\"Exiting the program. Goodbye!\")\n",
        "    break\n",
        "  else:\n",
        "    print(\"Invalid choice. Please select a valid option (1/2/3/4/5).\")\n",
        "\n"
      ],
      "metadata": {
        "colab": {
          "base_uri": "https://localhost:8080/"
        },
        "id": "n6zn6veMRAIy",
        "outputId": "999f0845-5845-4bcc-d023-785635f71194"
      },
      "execution_count": null,
      "outputs": [
        {
          "output_type": "stream",
          "name": "stdout",
          "text": [
            "Student Database Management System\n",
            "1. Add Student\n",
            "2. Find Student Information\n",
            "3. Display Database\n",
            "4. Delete student\n",
            "4. Exit\n",
            "Enter your choice (1/2/3/4/5):1\n",
            "enter the student usn no100\n",
            "enter the student nameram\n",
            "enter the student majorECE\n",
            "Student added successfully\n",
            "Student Database Management System\n",
            "1. Add Student\n",
            "2. Find Student Information\n",
            "3. Display Database\n",
            "4. Delete student\n",
            "4. Exit\n",
            "Enter your choice (1/2/3/4/5):1\n",
            "enter the student usn no100\n",
            "Student already exists in the database\n",
            "Student Database Management System\n",
            "1. Add Student\n",
            "2. Find Student Information\n",
            "3. Display Database\n",
            "4. Delete student\n",
            "4. Exit\n"
          ]
        }
      ]
    },
    {
      "cell_type": "code",
      "source": [
        "def test1():\n",
        "  l1 = [10, 20, 30,40]\n",
        "  t1 = ( 60,70,80)\n",
        "  return l1, t1\n",
        "\n",
        "u,w = test1()\n",
        "print(u,w)\n",
        "print(u)\n",
        "print(w)\n",
        "print(type(u))\n",
        "print(type(w))"
      ],
      "metadata": {
        "colab": {
          "base_uri": "https://localhost:8080/"
        },
        "id": "C_aRtdSYkV9U",
        "outputId": "0652989b-fb6e-4880-a950-dcbc7a8881b2"
      },
      "execution_count": null,
      "outputs": [
        {
          "output_type": "stream",
          "name": "stdout",
          "text": [
            "[10, 20, 30, 40] (60, 70, 80)\n",
            "[10, 20, 30, 40]\n",
            "(60, 70, 80)\n",
            "<class 'list'>\n",
            "<class 'tuple'>\n"
          ]
        }
      ]
    },
    {
      "cell_type": "code",
      "source": [
        "def func1(a,b,c,d):\n",
        "  return a,b,c,d\n",
        "\n",
        "_,val2,_,val4 = func1(10,20,30,40)\n",
        "print(val2, val4)"
      ],
      "metadata": {
        "colab": {
          "base_uri": "https://localhost:8080/"
        },
        "id": "9APqLXekk6nG",
        "outputId": "e97112cd-9f47-4c53-8ca9-92591359e9bc"
      },
      "execution_count": null,
      "outputs": [
        {
          "output_type": "stream",
          "name": "stdout",
          "text": [
            "20 40\n"
          ]
        }
      ]
    },
    {
      "cell_type": "code",
      "source": [
        "def multiplier_factory(factor):\n",
        "\n",
        "  def multiplier(number):\n",
        "    print(\"HI\")\n",
        "    return number * factor\n",
        "\n",
        "  # Return the nested function\n",
        "  return multiplier  # returning the inner function\n",
        "\n",
        "# Create a function that multiplies by 5\n",
        "multiply_by_5 = multiplier_factory(5)\n",
        "print(type(multiply_by_5))\n",
        "\n",
        "# Create a function that multiplies by 10\n",
        "multiply_by_10 = multiplier_factory(10)\n",
        "print(type(multiply_by_10))\n",
        "\n",
        "# Use the created functions\n",
        "result1 = multiply_by_5(8)\n",
        "#result2 = multiply_by_10(4)\n",
        "\n",
        "print(f\"8 multiplied by 5 is: {result1}\")  # Output: 8 multiplied by 5 is: 40\n",
        "#print(f\"4 multiplied by 10 is: {result2}\") # Output: 4 multiplied by 10 is: 40"
      ],
      "metadata": {
        "colab": {
          "base_uri": "https://localhost:8080/"
        },
        "id": "lFFVtbevEL2x",
        "outputId": "a02f0135-e152-4d53-b5b5-528a19e81791"
      },
      "execution_count": null,
      "outputs": [
        {
          "output_type": "stream",
          "name": "stdout",
          "text": [
            "<class 'function'>\n",
            "<class 'function'>\n",
            "HI\n",
            "8 multiplied by 5 is: 40\n"
          ]
        }
      ]
    },
    {
      "cell_type": "code",
      "source": [
        "def fun(*a, b, c, d=100):\n",
        "    sum = 0\n",
        "    mul = 0\n",
        "    for i in a:\n",
        "        sum = sum + i\n",
        "    mul = b * c\n",
        "    return sum, mul, d\n",
        "\n",
        "fun(1,2,3,4,5, b = 6, c = 7)"
      ],
      "metadata": {
        "id": "zl923qHOXgMT",
        "outputId": "75c76c72-9a16-49a7-8155-4095e3f14ec1",
        "colab": {
          "base_uri": "https://localhost:8080/"
        }
      },
      "execution_count": null,
      "outputs": [
        {
          "output_type": "execute_result",
          "data": {
            "text/plain": [
              "(15, 42, 100)"
            ]
          },
          "metadata": {},
          "execution_count": 5
        }
      ]
    },
    {
      "cell_type": "code",
      "source": [
        "#class calculatro\n",
        "class Calculator:\n",
        "  def __init__(self, num1, num2):\n",
        "    self.num1 = num1\n",
        "    self.num2 = num2\n",
        "\n",
        "  def add(self):\n",
        "    return self.num1 + self.num2\n",
        "  def sub(self):\n",
        "    return self.num1 - self.num2\n",
        "\n",
        "  def mul(self):\n",
        "    return self.num1 * self.num2\n",
        "\n",
        "  def div(self):\n",
        "    return self.num1 / self.num2\n",
        "\n",
        "obj1 = Calculator(10,20)\n",
        "print(\"Addition\",+obj1.add())\n",
        "print(\"Substraction:\",+obj1.sub())\n",
        "print(\"Multiplication:\",+obj1.mul())\n",
        "print(\"Division:\",+obj1.div())\n"
      ],
      "metadata": {
        "id": "pD2OdMHmqaV6",
        "outputId": "ee9a11e8-01ed-4854-8299-ae5fcf9d2615",
        "colab": {
          "base_uri": "https://localhost:8080/"
        }
      },
      "execution_count": null,
      "outputs": [
        {
          "output_type": "stream",
          "name": "stdout",
          "text": [
            "Addition 30\n",
            "Substraction: -10\n",
            "Multiplication: 200\n",
            "Division: 0.5\n"
          ]
        }
      ]
    },
    {
      "cell_type": "code",
      "source": [
        "import numpy as np\n",
        "import pandas as pd\n",
        "import matplotlib.pyplot as plt\n",
        "from sklearn.linear_model import LinearRegression\n",
        "from sklearn.metrics import mean_squared_error, r2_score\n",
        "from datetime import datetime, timedelta\n",
        "\n",
        "# -----------------------------\n",
        "# 1. Generate synthetic sales data\n",
        "# -----------------------------\n",
        "np.random.seed(42)\n",
        "\n",
        "# Create 5 years of monthly data (60 months)\n",
        "dates = pd.date_range(start=\"2020-01-01\", periods=60, freq='M')\n",
        "trend = np.linspace(100, 200, 60)  # sales gradually increase\n",
        "seasonality = 20 * np.sin(np.linspace(0, 6*np.pi, 60))  # simulate seasonal effect\n",
        "noise = np.random.normal(0, 10, 60)  # random variation\n",
        "\n",
        "sales = trend + seasonality + noise\n",
        "data = pd.DataFrame({'Month': dates, 'Sales': sales})\n",
        "\n",
        "# -----------------------------\n",
        "# 2. Prepare features for regression\n",
        "# -----------------------------\n",
        "# Convert months to numeric (time index)\n",
        "data['Month_Index'] = np.arange(len(data))\n",
        "\n",
        "# Split train/test (train on 2020–2024, predict 2025)\n",
        "X = data[['Month_Index']]\n",
        "y = data['Sales']\n",
        "\n",
        "# Train on all except last 12 months\n",
        "X_train, X_test = X[:-12], X[-12:]\n",
        "y_train, y_test = y[:-12], y[-12:]\n",
        "\n",
        "# -----------------------------\n",
        "# 3. Train Linear Regression model\n",
        "# -----------------------------\n",
        "model = LinearRegression()\n",
        "model.fit(X_train, y_train)\n",
        "\n",
        "# -----------------------------\n",
        "# 4. Predict future sales (next 12 months)\n",
        "# -----------------------------\n",
        "future_months = np.arange(len(data), len(data) + 12)\n",
        "future_dates = pd.date_range(start=dates[-1] + timedelta(days=30), periods=12, freq='M')\n",
        "future_predictions = model.predict(future_months.reshape(-1, 1))\n",
        "\n",
        "future_df = pd.DataFrame({'Month': future_dates, 'Predicted_Sales': future_predictions})\n",
        "\n",
        "# -----------------------------\n",
        "# 5. Evaluate model\n",
        "# -----------------------------\n",
        "y_pred = model.predict(X_test)\n",
        "mse = mean_squared_error(y_test, y_pred)\n",
        "r2 = r2_score(y_test, y_pred)\n",
        "\n",
        "print(f\"Model Performance:\\nMSE = {mse:.2f}, R² = {r2:.2f}\")\n",
        "print(\"\\nFuture Sales Prediction:\")\n",
        "print(future_df)\n",
        "\n",
        "# -----------------------------\n",
        "# 6. Plot the results\n",
        "# -----------------------------\n",
        "plt.figure(figsize=(10, 5))\n",
        "plt.plot(data['Month'], data['Sales'], label='Historical Sales')\n",
        "plt.plot(future_df['Month'], future_df['Predicted_Sales'], label='Predicted Sales (Next Year)', linestyle='--')\n",
        "plt.xlabel('Month')\n",
        "plt.ylabel('Sales')\n",
        "plt.title('Sales Forecast Using Linear Regression')\n",
        "plt.legend()\n",
        "plt.tight_layout()\n",
        "plt.show()\n"
      ],
      "metadata": {
        "colab": {
          "base_uri": "https://localhost:8080/",
          "height": 906
        },
        "id": "zJH1KcRm1Y4s",
        "outputId": "77f3d7fe-0e7d-4b3e-816d-df765787b022"
      },
      "execution_count": 1,
      "outputs": [
        {
          "output_type": "stream",
          "name": "stderr",
          "text": [
            "/tmp/ipython-input-1664192444.py:14: FutureWarning: 'M' is deprecated and will be removed in a future version, please use 'ME' instead.\n",
            "  dates = pd.date_range(start=\"2020-01-01\", periods=60, freq='M')\n",
            "/tmp/ipython-input-1664192444.py:46: FutureWarning: 'M' is deprecated and will be removed in a future version, please use 'ME' instead.\n",
            "  future_dates = pd.date_range(start=dates[-1] + timedelta(days=30), periods=12, freq='M')\n",
            "/usr/local/lib/python3.12/dist-packages/sklearn/utils/validation.py:2739: UserWarning: X does not have valid feature names, but LinearRegression was fitted with feature names\n",
            "  warnings.warn(\n"
          ]
        },
        {
          "output_type": "stream",
          "name": "stdout",
          "text": [
            "Model Performance:\n",
            "MSE = 155.18, R² = -0.02\n",
            "\n",
            "Future Sales Prediction:\n",
            "        Month  Predicted_Sales\n",
            "0  2025-01-31       197.946305\n",
            "1  2025-02-28       199.528422\n",
            "2  2025-03-31       201.110539\n",
            "3  2025-04-30       202.692657\n",
            "4  2025-05-31       204.274774\n",
            "5  2025-06-30       205.856891\n",
            "6  2025-07-31       207.439008\n",
            "7  2025-08-31       209.021125\n",
            "8  2025-09-30       210.603242\n",
            "9  2025-10-31       212.185359\n",
            "10 2025-11-30       213.767477\n",
            "11 2025-12-31       215.349594\n"
          ]
        },
        {
          "output_type": "display_data",
          "data": {
            "text/plain": [
              "<Figure size 1000x500 with 1 Axes>"
            ],
            "image/png": "[encoded data removed]"
          },
          "metadata": {}
        }
      ]
    },
    {
      "cell_type": "code",
      "source": [
        "import numpy as np\n",
        "import pandas as pd\n",
        "import matplotlib.pyplot as plt\n",
        "from sklearn.linear_model import LinearRegression\n",
        "from sklearn.metrics import mean_squared_error, r2_score\n",
        "from datetime import datetime, timedelta\n",
        "\n",
        "# -----------------------------\n",
        "# 1. Generate synthetic sales data\n",
        "# -----------------------------\n",
        "#np.random.seed(42)\n",
        "\n",
        "# Create 5 years of monthly data (60 months)\n",
        "#dates = pd.date_range(start=\"2020-01-01\", periods=60, freq='M')\n",
        "#trend = np.linspace(100, 200, 60)  # sales gradually increase\n",
        "#seasonality = 20 * np.sin(np.linspace(0, 6*np.pi, 60))  # simulate seasonal effect\n",
        "#noise = np.random.normal(0, 10, 60)  # random variation\n",
        "\n",
        "##sales = trend + seasonality + noise\n",
        "#data = pd.DataFrame({'Month': dates, 'Sales': sales})\n",
        "\n",
        "data = pd.read_csv('/content/sample_data/your_sales_data.csv')  # Replace with your actual file name\n",
        "\n",
        "# Ensure 'Month' column is in datetime format\n",
        "data['Month'] = pd.to_datetime(data['Month'])\n",
        "\n",
        "# Sort by Month if not already sorted\n",
        "data = data.sort_values('Month').reset_index(drop=True)\n",
        "\n",
        "# -----------------------------\n",
        "# 2. Prepare features for regression\n",
        "# -----------------------------\n",
        "# Convert months to numeric (time index)\n",
        "data['Month_Index'] = np.arange(len(data))\n",
        "\n",
        "# Split train/test (train on 2020–2024, predict 2025)\n",
        "X = data[['Month_Index']]\n",
        "y = data['Sales']\n",
        "\n",
        "# Train on all except last 12 months\n",
        "X_train, X_test = X[:-12], X[-12:]\n",
        "y_train, y_test = y[:-12], y[-12:]\n",
        "\n",
        "# -----------------------------\n",
        "# 3. Train Linear Regression model\n",
        "# -----------------------------\n",
        "model = LinearRegression()\n",
        "model.fit(X_train, y_train)\n",
        "\n",
        "# -----------------------------\n",
        "# 4. Predict future sales (next 12 months)\n",
        "# -----------------------------\n",
        "future_months = np.arange(len(data), len(data) + 12)\n",
        "future_dates = pd.date_range(start=dates[-1] + timedelta(days=30), periods=12, freq='M')\n",
        "future_predictions = model.predict(future_months.reshape(-1, 1))\n",
        "\n",
        "future_df = pd.DataFrame({'Month': future_dates, 'Predicted_Sales': future_predictions})\n",
        "\n",
        "# -----------------------------\n",
        "# 5. Evaluate model\n",
        "# -----------------------------\n",
        "y_pred = model.predict(X_test)\n",
        "mse = mean_squared_error(y_test, y_pred)\n",
        "r2 = r2_score(y_test, y_pred)\n",
        "\n",
        "print(f\"Model Performance:\\nMSE = {mse:.2f}, R² = {r2:.2f}\")\n",
        "print(\"\\nFuture Sales Prediction:\")\n",
        "print(future_df)\n",
        "\n",
        "# -----------------------------\n",
        "# 6. Plot the results\n",
        "# -----------------------------\n",
        "plt.figure(figsize=(10, 5))\n",
        "plt.plot(data['Month'], data['Sales'], label='Historical Sales')\n",
        "plt.plot(future_df['Month'], future_df['Predicted_Sales'], label='Predicted Sales (Next Year)', linestyle='--')\n",
        "plt.xlabel('Month')\n",
        "plt.ylabel('Sales')\n",
        "plt.title('Sales Forecast Using Linear Regression')\n",
        "plt.legend()\n",
        "plt.tight_layout()\n",
        "plt.show()\n"
      ],
      "metadata": {
        "colab": {
          "base_uri": "https://localhost:8080/",
          "height": 872
        },
        "outputId": "76966bbc-676c-4053-d1fa-483016f801ca",
        "id": "sDVdTsug6IvW"
      },
      "execution_count": 7,
      "outputs": [
        {
          "output_type": "stream",
          "name": "stderr",
          "text": [
            "/tmp/ipython-input-721249963.py:54: FutureWarning: 'M' is deprecated and will be removed in a future version, please use 'ME' instead.\n",
            "  future_dates = pd.date_range(start=dates[-1] + timedelta(days=30), periods=12, freq='M')\n",
            "/usr/local/lib/python3.12/dist-packages/sklearn/utils/validation.py:2739: UserWarning: X does not have valid feature names, but LinearRegression was fitted with feature names\n",
            "  warnings.warn(\n"
          ]
        },
        {
          "output_type": "stream",
          "name": "stdout",
          "text": [
            "Model Performance:\n",
            "MSE = 8908.45, R² = 0.17\n",
            "\n",
            "Future Sales Prediction:\n",
            "        Month  Predicted_Sales\n",
            "0  2025-01-31      1985.866153\n",
            "1  2025-02-28      2001.916116\n",
            "2  2025-03-31      2017.966079\n",
            "3  2025-04-30      2034.016042\n",
            "4  2025-05-31      2050.066005\n",
            "5  2025-06-30      2066.115968\n",
            "6  2025-07-31      2082.165931\n",
            "7  2025-08-31      2098.215894\n",
            "8  2025-09-30      2114.265858\n",
            "9  2025-10-31      2130.315821\n",
            "10 2025-11-30      2146.365784\n",
            "11 2025-12-31      2162.415747\n"
          ]
        },
        {
          "output_type": "display_data",
          "data": {
            "text/plain": [
              "<Figure size 1000x500 with 1 Axes>"
            ],
            "image/png": "[encoded data removed]"
          },
          "metadata": {}
        }
      ]
    },
    {
      "cell_type": "code",
      "source": [
        "\"\"\"\n",
        "Forecast next year's sales from YOUR data (CSV or Excel).\n",
        "\n",
        "Requirements:\n",
        "  pip install pandas numpy scikit-learn matplotlib openpyxl\n",
        "\n",
        "Expected columns (case-insensitive):\n",
        "  - date column:  one of [\"Date\",\"Month\",\"Period\",\"ds\"]  (editable below)\n",
        "  - value column: one of [\"Sales\",\"y\",\"Value\",\"Amount\",\"Revenue\"] (editable below)\n",
        "\n",
        "The script:\n",
        "  1) Loads & cleans your data\n",
        "  2) Infers frequency (W/M/Q/Y) and sorts\n",
        "  3) Builds trend + seasonality features\n",
        "  4) Evaluates on a recent holdout window\n",
        "  5) Predicts the next year's horizon for your frequency\n",
        "  6) Plots history + forecast\n",
        "\"\"\"\n",
        "\n",
        "import numpy as np\n",
        "import pandas as pd\n",
        "import matplotlib.pyplot as plt\n",
        "from pathlib import Path\n",
        "from sklearn.linear_model import LinearRegression\n",
        "from sklearn.metrics import mean_absolute_error, mean_squared_error, r2_score\n",
        "\n",
        "# -----------------------\n",
        "# USER SETTINGS\n",
        "# -----------------------\n",
        "FILE_PATH = \"/sample_data/your_sales_data.csv\"  # e.g., \"sales.xlsx\" also works\n",
        "DATE_COL_CANDIDATES = [\"Date\", \"Month\", \"Period\", \"ds\"]\n",
        "VALUE_COL_CANDIDATES = [\"Sales\", \"y\", \"Value\", \"Amount\", \"Revenue\"]\n",
        "\n",
        "# If your exact column names are known, set them directly:\n",
        "# DATE_COL = \"Month\"\n",
        "# VALUE_COL = \"Sales\"\n",
        "DATE_COL = None  # leave None to auto-detect from candidates\n",
        "VALUE_COL = None # leave None to auto-detect from candidates\n",
        "\n",
        "# Holdout size for evaluation (last N points)\n",
        "HOLDOUT_POINTS = 12  # (works for monthly; script adapts if shorter series)\n",
        "\n",
        "# -----------------------\n",
        "# Helpers\n",
        "# -----------------------\n",
        "def read_any(path: str) -> pd.DataFrame:\n",
        "    p = Path(path)\n",
        "    if not p.exists():\n",
        "        raise FileNotFoundError(f\"File not found: {path}\")\n",
        "    if p.suffix.lower() in [\".xls\", \".xlsx\", \".xlsm\"]:\n",
        "        return pd.read_excel(p)\n",
        "    return pd.read_csv(p)\n",
        "\n",
        "def find_col(df: pd.DataFrame, candidates, fallback=None):\n",
        "    cols_lower = {c.lower(): c for c in df.columns}\n",
        "    for c in candidates:\n",
        "        if c.lower() in cols_lower:\n",
        "            return cols_lower[c.lower()]\n",
        "    if fallback and fallback in df.columns:\n",
        "        return fallback\n",
        "    raise ValueError(\n",
        "        f\"Could not find any of the columns {candidates} in the file. \"\n",
        "        f\"Available columns: {list(df.columns)}\"\n",
        "    )\n",
        "\n",
        "def infer_frequency(dates: pd.Series) -> str:\n",
        "    # Try pandas inference first\n",
        "    freq = pd.infer_freq(dates.sort_values())\n",
        "    if freq:\n",
        "        # Normalize to common targets\n",
        "        if freq.upper().startswith(\"W\"):\n",
        "            return \"W\"\n",
        "        if freq.upper().startswith(\"Q\"):\n",
        "            return \"Q\"\n",
        "        if freq.upper().startswith(\"A\") or freq.upper().startswith(\"Y\"):\n",
        "            return \"Y\"\n",
        "        if freq.upper().startswith(\"M\"):\n",
        "            return \"M\"\n",
        "    # Fallback by median delta\n",
        "    dt = dates.sort_values().diff().median()\n",
        "    if pd.isna(dt):\n",
        "        return \"M\"  # default\n",
        "    days = dt.days if hasattr(dt, \"days\") else dt / np.timedelta64(1, \"D\")\n",
        "    if days < 10:\n",
        "        return \"W\"\n",
        "    if 20 <= days <= 40:\n",
        "        return \"M\"\n",
        "    if 60 <= days <= 100:\n",
        "        return \"Q\"\n",
        "    if days >= 330:\n",
        "        return \"Y\"\n",
        "    return \"M\"\n",
        "\n",
        "def horizon_for_freq(freq: str) -> int:\n",
        "    if freq == \"W\":\n",
        "        return 52\n",
        "    if freq == \"Q\":\n",
        "        return 4\n",
        "    if freq == \"Y\":\n",
        "        return 1\n",
        "    return 12  # default to 12 months\n",
        "\n",
        "def build_features(df: pd.DataFrame, freq: str) -> pd.DataFrame:\n",
        "    \"\"\"\n",
        "    Create time-based features:\n",
        "      - t (trend), t^2\n",
        "      - seasonal Fourier terms based on freq\n",
        "      - calendar dummies (month/quarter) when appropriate\n",
        "    \"\"\"\n",
        "    out = df.copy()\n",
        "    out = out.sort_values(\"ds\").reset_index(drop=True)\n",
        "    out[\"t\"] = np.arange(len(out)) + 1\n",
        "    out[\"t2\"] = out[\"t\"] ** 2\n",
        "\n",
        "    # Fourier seasonal terms\n",
        "    def add_fourier(X, period, K=3, prefix=\"\"):\n",
        "        for k in range(1, K + 1):\n",
        "            X[f\"{prefix}sin{k}\"] = np.sin(2 * np.pi * k * X[\"t\"] / period)\n",
        "            X[f\"{prefix}cos{k}\"] = np.cos(2 * np.pi * k * X[\"t\"] / period)\n",
        "        return X\n",
        "\n",
        "    if freq == \"W\":\n",
        "        out = add_fourier(out, period=52, K=3, prefix=\"w_\")\n",
        "    elif freq == \"Q\":\n",
        "        out = add_fourier(out, period=4, K=2, prefix=\"q_\")\n",
        "    elif freq == \"Y\":\n",
        "        # yearly data typically has little intra-year seasonality\n",
        "        pass\n",
        "    else:  # \"M\" or default\n",
        "        out = add_fourier(out, period=12, K=3, prefix=\"m_\")\n",
        "        out[\"month\"] = out[\"ds\"].dt.month.astype(\"category\")\n",
        "        # one-hot (drop_first to avoid collinearity)\n",
        "        out = pd.get_dummies(out, columns=[\"month\"], drop_first=True)\n",
        "\n",
        "    return out\n",
        "\n",
        "# -----------------------\n",
        "# 1) Load & clean\n",
        "# -----------------------\n",
        "df_raw = read_any(FILE_PATH)\n",
        "\n",
        "# Auto-detect columns if not provided\n",
        "if DATE_COL is None:\n",
        "    DATE_COL = find_col(df_raw, DATE_COL_CANDIDATES)\n",
        "if VALUE_COL is None:\n",
        "    VALUE_COL = find_col(df_raw, VALUE_COL_CANDIDATES)\n",
        "\n",
        "df = df_raw[[DATE_COL, VALUE_COL]].copy()\n",
        "df.columns = [\"ds\", \"y\"]\n",
        "df[\"ds\"] = pd.to_datetime(df[\"ds\"], errors=\"coerce\")\n",
        "df = df.dropna(subset=[\"ds\", \"y\"]).sort_values(\"ds\")\n",
        "\n",
        "# Optional: aggregate if duplicates on same period\n",
        "df = df.groupby(\"ds\", as_index=False)[\"y\"].sum()\n",
        "\n",
        "# -----------------------\n",
        "# 2) Ensure regular frequency\n",
        "# -----------------------\n",
        "freq = infer_frequency(df[\"ds\"])\n",
        "# Reindex to a complete regular range, filling gaps (linear fill)\n",
        "full_idx = pd.date_range(start=df[\"ds\"].min(), end=df[\"ds\"].max(), freq=freq)\n",
        "df = df.set_index(\"ds\").reindex(full_idx).rename_axis(\"ds\").reset_index()\n",
        "# Fill missing values by interpolation; then ffill/bfill as safety\n",
        "df[\"y\"] = df[\"y\"].interpolate(limit_direction=\"both\")\n",
        "df[\"y\"] = df[\"y\"].ffill().bfill()\n",
        "\n",
        "# If the series is very short, reduce holdout\n",
        "H = horizon_for_freq(freq)\n",
        "holdout = min(HOLDOUT_POINTS, max(1, len(df) // 5))  # keep ~20% if small\n",
        "\n",
        "# -----------------------\n",
        "# 3) Features & split\n",
        "# -----------------------\n",
        "feat_df = build_features(df, freq)\n",
        "feature_cols = [c for c in feat_df.columns if c not in [\"ds\", \"y\"]]\n",
        "\n",
        "train = feat_df.iloc[:-holdout].copy()\n",
        "test  = feat_df.iloc[-holdout:].copy()\n",
        "\n",
        "X_train, y_train = train[feature_cols], train[\"y\"].values\n",
        "X_test,  y_test  = test[feature_cols],  test[\"y\"].values\n",
        "\n",
        "# -----------------------\n",
        "# 4) Train simple regression\n",
        "# -----------------------\n",
        "model = LinearRegression()\n",
        "model.fit(X_train, y_train)\n",
        "\n",
        "# -----------------------\n",
        "# 5) Evaluate on holdout\n",
        "# -----------------------\n",
        "y_hat = model.predict(X_test)\n",
        "mae = mean_absolute_error(y_test, y_hat)\n",
        "rmse = mean_squared_error(y_test, y_hat) # Removed squared=False\n",
        "r2 = r2_score(y_test, y_hat)\n",
        "\n",
        "print(\"=== Holdout Performance (last window) ===\")\n",
        "print(f\"Frequency: {freq} | Points in holdout: {holdout}\")\n",
        "print(f\"MAE : {mae:,.2f}\")\n",
        "print(f\"RMSE: {rmse:,.2f}\")\n",
        "print(f\"R^2 : {r2:,.3f}\")\n",
        "\n",
        "# -----------------------\n",
        "# 6) Forecast next year\n",
        "# -----------------------\n",
        "H_next = horizon_for_freq(freq)\n",
        "last_t = feat_df[\"t\"].iloc[-1]\n",
        "\n",
        "future = pd.DataFrame({\n",
        "    \"ds\": pd.date_range(start=df[\"ds\"].iloc[-1] + pd.tseries.frequencies.to_offset(freq),\n",
        "                        periods=H_next, freq=freq)\n",
        "})\n",
        "tmp = pd.concat([df[[\"ds\",\"y\"]], future.assign(y=np.nan)], ignore_index=True)\n",
        "\n",
        "feat_all = build_features(tmp.drop(columns=[\"y\"]), freq)\n",
        "# Merge historical y back\n",
        "feat_all = feat_all.merge(tmp[[\"ds\",\"y\"]], on=\"ds\", how=\"left\")\n",
        "\n",
        "future_feat = feat_all.loc[feat_all[\"ds\"].isin(future[\"ds\"]), feature_cols]\n",
        "future_pred = model.predict(future_feat)\n",
        "\n",
        "forecast = future.copy()\n",
        "forecast[\"yhat\"] = future_pred\n",
        "\n",
        "print(\"\\n=== Next-Year Forecast ===\")\n",
        "print(forecast)\n",
        "\n",
        "# -----------------------\n",
        "# 7) Plot\n",
        "# -----------------------\n",
        "plt.figure(figsize=(11, 5))\n",
        "plt.plot(df[\"ds\"], df[\"y\"], label=\"History\")\n",
        "plt.plot(test[\"ds\"], y_hat, linestyle=\"--\", label=\"Model (holdout fit)\")\n",
        "plt.plot(forecast[\"ds\"], forecast[\"yhat\"], linestyle=\"--\", label=\"Forecast (next year)\")\n",
        "plt.title(\"Sales Forecast\")\n",
        "plt.xlabel(\"Date\")\n",
        "plt.ylabel(\"Sales\")\n",
        "plt.legend()\n",
        "plt.tight_layout()\n",
        "plt.show()"
      ],
      "metadata": {
        "colab": {
          "base_uri": "https://localhost:8080/",
          "height": 391
        },
        "id": "dg5zUoTq3UmR",
        "outputId": "42e1ea49-5c51-4e55-ab77-4a238a3fceca"
      },
      "execution_count": 5,
      "outputs": [
        {
          "output_type": "stream",
          "name": "stderr",
          "text": [
            "/tmp/ipython-input-4045841937.py:161: FutureWarning: 'M' is deprecated and will be removed in a future version, please use 'ME' instead.\n",
            "  full_idx = pd.date_range(start=df[\"ds\"].min(), end=df[\"ds\"].max(), freq=freq)\n"
          ]
        },
        {
          "output_type": "error",
          "ename": "TypeError",
          "evalue": "got an unexpected keyword argument 'squared'",
          "traceback": [
            "\u001b[0;31m---------------------------------------------------------------------------\u001b[0m",
            "\u001b[0;31mTypeError\u001b[0m                                 Traceback (most recent call last)",
            "\u001b[0;32m/tmp/ipython-input-4045841937.py\u001b[0m in \u001b[0;36m<cell line: 0>\u001b[0;34m()\u001b[0m\n\u001b[1;32m    192\u001b[0m \u001b[0my_hat\u001b[0m \u001b[0;34m=\u001b[0m \u001b[0mmodel\u001b[0m\u001b[0;34m.\u001b[0m\u001b[0mpredict\u001b[0m\u001b[0;34m(\u001b[0m\u001b[0mX_test\u001b[0m\u001b[0;34m)\u001b[0m\u001b[0;34m\u001b[0m\u001b[0;34m\u001b[0m\u001b[0m\n\u001b[1;32m    193\u001b[0m \u001b[0mmae\u001b[0m \u001b[0;34m=\u001b[0m \u001b[0mmean_absolute_error\u001b[0m\u001b[0;34m(\u001b[0m\u001b[0my_test\u001b[0m\u001b[0;34m,\u001b[0m \u001b[0my_hat\u001b[0m\u001b[0;34m)\u001b[0m\u001b[0;34m\u001b[0m\u001b[0;34m\u001b[0m\u001b[0m\n\u001b[0;32m--> 194\u001b[0;31m \u001b[0mrmse\u001b[0m \u001b[0;34m=\u001b[0m \u001b[0mmean_squared_error\u001b[0m\u001b[0;34m(\u001b[0m\u001b[0my_test\u001b[0m\u001b[0;34m,\u001b[0m \u001b[0my_hat\u001b[0m\u001b[0;34m,\u001b[0m \u001b[0msquared\u001b[0m\u001b[0;34m=\u001b[0m\u001b[0;32mFalse\u001b[0m\u001b[0;34m)\u001b[0m\u001b[0;34m\u001b[0m\u001b[0;34m\u001b[0m\u001b[0m\n\u001b[0m\u001b[1;32m    195\u001b[0m \u001b[0mr2\u001b[0m \u001b[0;34m=\u001b[0m \u001b[0mr2_score\u001b[0m\u001b[0;34m(\u001b[0m\u001b[0my_test\u001b[0m\u001b[0;34m,\u001b[0m \u001b[0my_hat\u001b[0m\u001b[0;34m)\u001b[0m\u001b[0;34m\u001b[0m\u001b[0;34m\u001b[0m\u001b[0m\n\u001b[1;32m    196\u001b[0m \u001b[0;34m\u001b[0m\u001b[0m\n",
            "\u001b[0;32m/usr/local/lib/python3.12/dist-packages/sklearn/utils/_param_validation.py\u001b[0m in \u001b[0;36mwrapper\u001b[0;34m(*args, **kwargs)\u001b[0m\n\u001b[1;32m    192\u001b[0m \u001b[0;34m\u001b[0m\u001b[0m\n\u001b[1;32m    193\u001b[0m             \u001b[0;31m# Map *args/**kwargs to the function signature\u001b[0m\u001b[0;34m\u001b[0m\u001b[0;34m\u001b[0m\u001b[0m\n\u001b[0;32m--> 194\u001b[0;31m             \u001b[0mparams\u001b[0m \u001b[0;34m=\u001b[0m \u001b[0mfunc_sig\u001b[0m\u001b[0;34m.\u001b[0m\u001b[0mbind\u001b[0m\u001b[0;34m(\u001b[0m\u001b[0;34m*\u001b[0m\u001b[0margs\u001b[0m\u001b[0;34m,\u001b[0m \u001b[0;34m**\u001b[0m\u001b[0mkwargs\u001b[0m\u001b[0;34m)\u001b[0m\u001b[0;34m\u001b[0m\u001b[0;34m\u001b[0m\u001b[0m\n\u001b[0m\u001b[1;32m    195\u001b[0m             \u001b[0mparams\u001b[0m\u001b[0;34m.\u001b[0m\u001b[0mapply_defaults\u001b[0m\u001b[0;34m(\u001b[0m\u001b[0;34m)\u001b[0m\u001b[0;34m\u001b[0m\u001b[0;34m\u001b[0m\u001b[0m\n\u001b[1;32m    196\u001b[0m \u001b[0;34m\u001b[0m\u001b[0m\n",
            "\u001b[0;32m/usr/lib/python3.12/inspect.py\u001b[0m in \u001b[0;36mbind\u001b[0;34m(self, *args, **kwargs)\u001b[0m\n\u001b[1;32m   3278\u001b[0m         \u001b[0;32mif\u001b[0m \u001b[0mthe\u001b[0m \u001b[0mpassed\u001b[0m \u001b[0marguments\u001b[0m \u001b[0mcan\u001b[0m \u001b[0;32mnot\u001b[0m \u001b[0mbe\u001b[0m \u001b[0mbound\u001b[0m\u001b[0;34m.\u001b[0m\u001b[0;34m\u001b[0m\u001b[0;34m\u001b[0m\u001b[0m\n\u001b[1;32m   3279\u001b[0m         \"\"\"\n\u001b[0;32m-> 3280\u001b[0;31m         \u001b[0;32mreturn\u001b[0m \u001b[0mself\u001b[0m\u001b[0;34m.\u001b[0m\u001b[0m_bind\u001b[0m\u001b[0;34m(\u001b[0m\u001b[0margs\u001b[0m\u001b[0;34m,\u001b[0m \u001b[0mkwargs\u001b[0m\u001b[0;34m)\u001b[0m\u001b[0;34m\u001b[0m\u001b[0;34m\u001b[0m\u001b[0m\n\u001b[0m\u001b[1;32m   3281\u001b[0m \u001b[0;34m\u001b[0m\u001b[0m\n\u001b[1;32m   3282\u001b[0m     \u001b[0;32mdef\u001b[0m \u001b[0mbind_partial\u001b[0m\u001b[0;34m(\u001b[0m\u001b[0mself\u001b[0m\u001b[0;34m,\u001b[0m \u001b[0;34m/\u001b[0m\u001b[0;34m,\u001b[0m \u001b[0;34m*\u001b[0m\u001b[0margs\u001b[0m\u001b[0;34m,\u001b[0m \u001b[0;34m**\u001b[0m\u001b[0mkwargs\u001b[0m\u001b[0;34m)\u001b[0m\u001b[0;34m:\u001b[0m\u001b[0;34m\u001b[0m\u001b[0;34m\u001b[0m\u001b[0m\n",
            "\u001b[0;32m/usr/lib/python3.12/inspect.py\u001b[0m in \u001b[0;36m_bind\u001b[0;34m(self, args, kwargs, partial)\u001b[0m\n\u001b[1;32m   3267\u001b[0m                 )\n\u001b[1;32m   3268\u001b[0m             \u001b[0;32melse\u001b[0m\u001b[0;34m:\u001b[0m\u001b[0;34m\u001b[0m\u001b[0;34m\u001b[0m\u001b[0m\n\u001b[0;32m-> 3269\u001b[0;31m                 raise TypeError(\n\u001b[0m\u001b[1;32m   3270\u001b[0m                     'got an unexpected keyword argument {arg!r}'.format(\n\u001b[1;32m   3271\u001b[0m                         arg=next(iter(kwargs))))\n",
            "\u001b[0;31mTypeError\u001b[0m: got an unexpected keyword argument 'squared'"
          ]
        }
      ]
    }
  ]
}