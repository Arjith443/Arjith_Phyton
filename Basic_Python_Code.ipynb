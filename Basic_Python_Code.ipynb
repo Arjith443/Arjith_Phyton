{
  "nbformat": 4,
  "nbformat_minor": 0,
  "metadata": {
    "colab": {
      "provenance": [],
      "name": "Basic Python.ipynb"
    },
    "kernelspec": {
      "name": "python3",
      "display_name": "Python 3"
    },
    "language_info": {
      "name": "python"
    }
  },
  "cells": [
    {
      "cell_type": "code",
      "execution_count": null,
      "metadata": {
        "colab": {
          "base_uri": "https://localhost:8080/"
        },
        "id": "HpmbKqI7jltH",
        "outputId": "0ec1bf68-5f68-4ec7-f746-ea081ec8cab5"
      },
      "outputs": [
        {
          "output_type": "stream",
          "name": "stdout",
          "text": [
            "hello world\n"
          ]
        }
      ],
      "source": [
        "print(\"hello mm\")"
      ]
    },
    {
      "cell_type": "code",
      "source": [
        "# Day 3\n",
        "#creating s simple list\n",
        "l=[10,20.3,\"Ntt\",3+4j]\n",
        "print (l)\n",
        "print(type(l))\n",
        "print (l[-2])\n",
        "\n"
      ],
      "metadata": {
        "colab": {
          "base_uri": "https://localhost:8080/"
        },
        "id": "uJl5DeSfTKZZ",
        "outputId": "a520af69-18ea-4773-f1ef-54967da90bc2"
      },
      "execution_count": null,
      "outputs": [
        {
          "output_type": "stream",
          "name": "stdout",
          "text": [
            "[10, 20.3, 'Ntt', (3+4j)]\n",
            "<class 'list'>\n",
            "Ntt\n"
          ]
        }
      ]
    },
    {
      "cell_type": "code",
      "source": [
        "l={10:\"Arjith\",20:\"Muni\",30:\"Rovbert\"}\n",
        "print (type(l))\n"
      ],
      "metadata": {
        "colab": {
          "base_uri": "https://localhost:8080/"
        },
        "id": "-d8b2_yr5W2g",
        "outputId": "ba9f7abe-64d3-40e9-92a8-4a7d43b04c4c"
      },
      "execution_count": null,
      "outputs": [
        {
          "output_type": "stream",
          "name": "stdout",
          "text": [
            "<class 'dict'>\n"
          ]
        }
      ]
    },
    {
      "cell_type": "code",
      "source": [
        "l={100:\"Arjith\",20:\"Muni\",333:\"Robert\"}\n",
        "print (l[333])"
      ],
      "metadata": {
        "colab": {
          "base_uri": "https://localhost:8080/"
        },
        "id": "raP8IFlJ55lw",
        "outputId": "0fd21572-647a-41a1-bf23-9fa314a62bdb"
      },
      "execution_count": null,
      "outputs": [
        {
          "output_type": "stream",
          "name": "stdout",
          "text": [
            "Robert\n"
          ]
        }
      ]
    },
    {
      "cell_type": "code",
      "source": [
        "s = {12,13,14,14,\"Hello\",\"Hello\"}\n",
        "\n",
        "print(s[0])\n"
      ],
      "metadata": {
        "colab": {
          "base_uri": "https://localhost:8080/",
          "height": 176
        },
        "id": "fuCKuvtG6WuI",
        "outputId": "1605a84a-8646-4d4e-d99f-4390d2fffcd2"
      },
      "execution_count": null,
      "outputs": [
        {
          "output_type": "error",
          "ename": "TypeError",
          "evalue": "'set' object is not subscriptable",
          "traceback": [
            "\u001b[0;31m---------------------------------------------------------------------------\u001b[0m",
            "\u001b[0;31mTypeError\u001b[0m                                 Traceback (most recent call last)",
            "\u001b[0;32m<ipython-input-33-68a7ed448a70>\u001b[0m in \u001b[0;36m<cell line: 0>\u001b[0;34m()\u001b[0m\n\u001b[1;32m      1\u001b[0m \u001b[0ms\u001b[0m \u001b[0;34m=\u001b[0m \u001b[0;34m{\u001b[0m\u001b[0;36m12\u001b[0m\u001b[0;34m,\u001b[0m\u001b[0;36m13\u001b[0m\u001b[0;34m,\u001b[0m\u001b[0;36m14\u001b[0m\u001b[0;34m,\u001b[0m\u001b[0;36m14\u001b[0m\u001b[0;34m,\u001b[0m\u001b[0;34m\"Hello\"\u001b[0m\u001b[0;34m,\u001b[0m\u001b[0;34m\"Hello\"\u001b[0m\u001b[0;34m}\u001b[0m\u001b[0;34m\u001b[0m\u001b[0;34m\u001b[0m\u001b[0m\n\u001b[1;32m      2\u001b[0m \u001b[0;34m\u001b[0m\u001b[0m\n\u001b[0;32m----> 3\u001b[0;31m \u001b[0mprint\u001b[0m\u001b[0;34m(\u001b[0m\u001b[0ms\u001b[0m\u001b[0;34m[\u001b[0m\u001b[0;36m0\u001b[0m\u001b[0;34m]\u001b[0m\u001b[0;34m)\u001b[0m\u001b[0;34m\u001b[0m\u001b[0;34m\u001b[0m\u001b[0m\n\u001b[0m",
            "\u001b[0;31mTypeError\u001b[0m: 'set' object is not subscriptable"
          ]
        }
      ]
    },
    {
      "cell_type": "code",
      "source": [
        "s = {12, 13, 14, 14, \"Hello\", \"Hello\"}\n",
        "\n",
        "for element in s:\n",
        "    print(element)"
      ],
      "metadata": {
        "colab": {
          "base_uri": "https://localhost:8080/"
        },
        "id": "ERyEdD3f7VKC",
        "outputId": "fe91db04-6ed0-4a0c-cbe4-8521e0b5cda0"
      },
      "execution_count": null,
      "outputs": [
        {
          "output_type": "stream",
          "name": "stdout",
          "text": [
            "12\n",
            "13\n",
            "14\n",
            "Hello\n"
          ]
        }
      ]
    },
    {
      "cell_type": "code",
      "source": [
        "s = {12, 13, 14, \"Hello\", \"hello\"}\n",
        "\n",
        "s_list = list(s)\n",
        "print(s_list[4])  # Access the first element of the list"
      ],
      "metadata": {
        "colab": {
          "base_uri": "https://localhost:8080/"
        },
        "id": "zUQxzsWV7Ylz",
        "outputId": "02d4a3ca-a402-403b-af55-b5c84078f588"
      },
      "execution_count": null,
      "outputs": [
        {
          "output_type": "stream",
          "name": "stdout",
          "text": [
            "14\n"
          ]
        }
      ]
    },
    {
      "cell_type": "code",
      "source": [
        "#isinstance\n",
        "a=10\n",
        "print (isinstance(a,int))\n"
      ],
      "metadata": {
        "colab": {
          "base_uri": "https://localhost:8080/"
        },
        "id": "_5wHueRsT9e7",
        "outputId": "3e348658-00e0-466c-8dfe-22913d8e5002"
      },
      "execution_count": null,
      "outputs": [
        {
          "output_type": "stream",
          "name": "stdout",
          "text": [
            "True\n"
          ]
        }
      ]
    },
    {
      "cell_type": "code",
      "source": [
        "#variable annotations\n",
        "name: str = \"NTT\"\n",
        "print(name)\n",
        "print(__annotations__['name'])"
      ],
      "metadata": {
        "colab": {
          "base_uri": "https://localhost:8080/"
        },
        "id": "xQHytdgQUK9_",
        "outputId": "2e12aa6c-6ccf-4ed4-83f9-d18b6723f4f4"
      },
      "execution_count": null,
      "outputs": [
        {
          "output_type": "stream",
          "name": "stdout",
          "text": [
            "NTT\n",
            "<class 'str'>\n"
          ]
        }
      ]
    },
    {
      "cell_type": "code",
      "source": [
        "name: str = \"NTT\"\n",
        "print(name)\n",
        "print(type(name))\n",
        "print(__annotations__['name'])\n"
      ],
      "metadata": {
        "id": "k_9V-vBIUxKK"
      },
      "execution_count": null,
      "outputs": []
    },
    {
      "cell_type": "code",
      "source": [
        "name: int = 10\n",
        "print(name)\n",
        "print(__annotations__['name'])"
      ],
      "metadata": {
        "colab": {
          "base_uri": "https://localhost:8080/"
        },
        "id": "HaaltRd32J1d",
        "outputId": "eb403c4e-bd66-4584-f7fb-13a9555635d3"
      },
      "execution_count": null,
      "outputs": [
        {
          "output_type": "stream",
          "name": "stdout",
          "text": [
            "10\n",
            "<class 'int'>\n"
          ]
        }
      ]
    },
    {
      "cell_type": "code",
      "source": [],
      "metadata": {
        "id": "pNjjTUeXWcwI"
      },
      "execution_count": null,
      "outputs": []
    },
    {
      "cell_type": "code",
      "source": [
        "aaa=10\n",
        "print(aaa)\n",
        "print(type(aaa))\n",
        "\n",
        "print(__annotations__['aaa'])\n"
      ],
      "metadata": {
        "colab": {
          "base_uri": "https://localhost:8080/",
          "height": 211
        },
        "id": "7c6ghR13Vzrp",
        "outputId": "db6853c5-5919-4877-9437-94b06a24acbf"
      },
      "execution_count": null,
      "outputs": [
        {
          "output_type": "stream",
          "name": "stdout",
          "text": [
            "10\n",
            "<class 'int'>\n"
          ]
        },
        {
          "output_type": "error",
          "ename": "NameError",
          "evalue": "name '__annotations__' is not defined",
          "traceback": [
            "\u001b[0;31m---------------------------------------------------------------------------\u001b[0m",
            "\u001b[0;31mNameError\u001b[0m                                 Traceback (most recent call last)",
            "\u001b[0;32m<ipython-input-1-34cce9b43018>\u001b[0m in \u001b[0;36m<cell line: 0>\u001b[0;34m()\u001b[0m\n\u001b[1;32m      3\u001b[0m \u001b[0mprint\u001b[0m\u001b[0;34m(\u001b[0m\u001b[0mtype\u001b[0m\u001b[0;34m(\u001b[0m\u001b[0maaa\u001b[0m\u001b[0;34m)\u001b[0m\u001b[0;34m)\u001b[0m\u001b[0;34m\u001b[0m\u001b[0;34m\u001b[0m\u001b[0m\n\u001b[1;32m      4\u001b[0m \u001b[0;34m\u001b[0m\u001b[0m\n\u001b[0;32m----> 5\u001b[0;31m \u001b[0mprint\u001b[0m\u001b[0;34m(\u001b[0m\u001b[0m__annotations__\u001b[0m\u001b[0;34m[\u001b[0m\u001b[0;34m'aaa'\u001b[0m\u001b[0;34m]\u001b[0m\u001b[0;34m)\u001b[0m\u001b[0;34m\u001b[0m\u001b[0;34m\u001b[0m\u001b[0m\n\u001b[0m",
            "\u001b[0;31mNameError\u001b[0m: name '__annotations__' is not defined"
          ]
        }
      ]
    },
    {
      "cell_type": "code",
      "source": [
        "# variable annotation\n",
        "\n",
        "aa: int = 10\n",
        "print(aa)\n",
        "\n",
        "print(__annotations__['aa'])\n",
        "print(type(aa))\n"
      ],
      "metadata": {
        "colab": {
          "base_uri": "https://localhost:8080/"
        },
        "id": "hlDFRsG0Wev7",
        "outputId": "02dbf3b6-738f-4036-f103-2451d17e8ebb"
      },
      "execution_count": null,
      "outputs": [
        {
          "output_type": "stream",
          "name": "stdout",
          "text": [
            "10\n",
            "<class 'int'>\n",
            "<class 'int'>\n"
          ]
        }
      ]
    },
    {
      "cell_type": "code",
      "source": [
        "#tuple - unable to chnage the content at run time t = (1,2,3..) , but list we can change it L = [1,2,3,4,...]\n"
      ],
      "metadata": {
        "id": "-zs2BtDYYOX0"
      },
      "execution_count": null,
      "outputs": []
    },
    {
      "cell_type": "code",
      "source": [
        "#dictionary  d = {a:1, b:2, c:3} - a, b, c are index and 1 2 3 are value"
      ],
      "metadata": {
        "id": "7eZYgoGnZkGa"
      },
      "execution_count": null,
      "outputs": []
    },
    {
      "cell_type": "code",
      "source": [
        "print(18//4)"
      ],
      "metadata": {
        "colab": {
          "base_uri": "https://localhost:8080/"
        },
        "id": "vVrHlCjgfrpB",
        "outputId": "1ac860a7-85c4-4d22-ab3a-251fd6e195e7"
      },
      "execution_count": null,
      "outputs": [
        {
          "output_type": "stream",
          "name": "stdout",
          "text": [
            "4\n"
          ]
        }
      ]
    },
    {
      "cell_type": "code",
      "source": [
        "print(18%4)"
      ],
      "metadata": {
        "colab": {
          "base_uri": "https://localhost:8080/"
        },
        "id": "ez0Q5SYLfwVB",
        "outputId": "5675b57b-ff1d-431b-e457-c78ba59c486b"
      },
      "execution_count": null,
      "outputs": [
        {
          "output_type": "stream",
          "name": "stdout",
          "text": [
            "2\n"
          ]
        }
      ]
    },
    {
      "cell_type": "code",
      "source": [
        "print((18.0//4))"
      ],
      "metadata": {
        "colab": {
          "base_uri": "https://localhost:8080/"
        },
        "id": "9xQ4YNdEf0WQ",
        "outputId": "c98aceef-7719-4fcf-f8f3-d4570b2b5379"
      },
      "execution_count": null,
      "outputs": [
        {
          "output_type": "stream",
          "name": "stdout",
          "text": [
            "4.0\n"
          ]
        }
      ]
    },
    {
      "cell_type": "code",
      "source": [
        "print(\"\"\"  working on multiline\n",
        "  sample \"\"\")"
      ],
      "metadata": {
        "colab": {
          "base_uri": "https://localhost:8080/"
        },
        "id": "pGTzI4EIf4L5",
        "outputId": "135722f1-0efe-42f4-908b-cb7a85673021"
      },
      "execution_count": null,
      "outputs": [
        {
          "output_type": "stream",
          "name": "stdout",
          "text": [
            "  working on multiline\n",
            "  sample \n"
          ]
        }
      ]
    },
    {
      "cell_type": "code",
      "source": [
        "#1-1 = 0 , 2-1 = 1, 3-1 = 2 (last param)\n",
        "Name = \"Hello world\"\n",
        "print(Name[0])\n",
        "print(Name[-8])\n",
        "\n",
        "print(Name[0:6:3])"
      ],
      "metadata": {
        "colab": {
          "base_uri": "https://localhost:8080/"
        },
        "id": "FCzAbliMg0ld",
        "outputId": "8f789eb1-0008-435b-9acb-573208c75d4d"
      },
      "execution_count": null,
      "outputs": [
        {
          "output_type": "stream",
          "name": "stdout",
          "text": [
            "H\n",
            "l\n",
            "Hl\n"
          ]
        }
      ]
    },
    {
      "cell_type": "code",
      "source": [
        "#slicing (its like substring)\n",
        "Name = \"Bangalore\"\n",
        "\n",
        "\n",
        "print(Name[ :5:1])\n",
        "print(Name[2: :1])\n",
        "print(Name[0:6: ])\n",
        "print(Name[ : : ])\n",
        "print(Name[2:7:1])\n",
        "\n",
        "# s[Start:Stop:Step]\n",
        "# if not given for start it will consider as 0, 2 paramater will take as entire , if 3rd is emty it will take 0"
      ],
      "metadata": {
        "colab": {
          "base_uri": "https://localhost:8080/"
        },
        "id": "qmk0v9VFjQRQ",
        "outputId": "56246301-0488-4292-acb9-06f713c50595"
      },
      "execution_count": null,
      "outputs": [
        {
          "output_type": "stream",
          "name": "stdout",
          "text": [
            "Banga\n",
            "ngalore\n",
            "Bangal\n",
            "Bangalore\n",
            "ngalo\n"
          ]
        }
      ]
    },
    {
      "cell_type": "code",
      "source": [],
      "metadata": {
        "id": "C3_ScG4nklJt"
      },
      "execution_count": null,
      "outputs": []
    },
    {
      "cell_type": "markdown",
      "source": [
        "Dictionary 04/25/2025"
      ],
      "metadata": {
        "id": "hw__gyphbBj5"
      }
    },
    {
      "cell_type": "code",
      "source": [
        "# Dictionary Creatation\n",
        "d1 = { (1,2):[1,2,3],(1,2):[1,2,3]}\n",
        "print(d1)\n",
        "d2 = { (1,2):[1,2,3],(2,1):[1,2,3]}\n",
        "print(d2)\n",
        "print(d2[(2,1)])\n",
        "d3 = { 1:2, 1:3}\n",
        "print(d3)"
      ],
      "metadata": {
        "colab": {
          "base_uri": "https://localhost:8080/"
        },
        "id": "gGna9j-LbFGn",
        "outputId": "60bda00c-01e8-440d-b708-9e8057042478"
      },
      "execution_count": null,
      "outputs": [
        {
          "output_type": "stream",
          "name": "stdout",
          "text": [
            "{(1, 2): [1, 2, 3]}\n",
            "{(1, 2): [1, 2, 3], (2, 1): [1, 2, 3]}\n",
            "[1, 2, 3]\n",
            "{1: 3}\n"
          ]
        }
      ]
    },
    {
      "cell_type": "code",
      "source": [
        "# define function\n",
        "def fun_res(n1,n2):\n",
        "  result = n1+n2\n",
        "  return result\n",
        "\n",
        "ans = fun_res(2,3)\n",
        "print(ans)\n"
      ],
      "metadata": {
        "colab": {
          "base_uri": "https://localhost:8080/"
        },
        "id": "6uOae-BWPB6m",
        "outputId": "aed5b014-d5cb-4994-93fd-8df9e412d07d"
      },
      "execution_count": null,
      "outputs": [
        {
          "output_type": "stream",
          "name": "stdout",
          "text": [
            "5\n"
          ]
        }
      ]
    },
    {
      "cell_type": "code",
      "source": [
        "# Mini Project\n",
        "def create_student_database():\n",
        "  # create a empty dict\n",
        "  database = {}\n",
        "  return database\n",
        "def add_student(database):\n",
        "  # Add a New student\n",
        "  usn = input(\"enter the student usn no\")\n",
        "  if usn in database:\n",
        "    print(\"Student already exists in the database\")\n",
        "  else:\n",
        "    name = input(\"enter the student name\")\n",
        "    major = input(\"enter the student major\")\n",
        "    database[usn] = {'Name':name,'Major':major} # Key value pair added to dictionary\n",
        "    print(\"Student added successfully\")\n",
        "    return database\n",
        "\n",
        "def Find_Student_info(database):\n",
        "  # Retrive information of the student\n",
        "  student_Id = input(\"enter the student USN no\")\n",
        "  student_info = database.get(student_Id)\n",
        "\n",
        "  if student_info:\n",
        "    print(\"Student Information:\")\n",
        "    print(\"Name:\", student_info['Name'])\n",
        "    print(\"Major:\", student_info['Major'])\n",
        "  else:\n",
        "    print(\"Student not found in the database.\")\n",
        "\n",
        "def display_database(database):\n",
        "  #print the contenet of the database\n",
        "  if database:\n",
        "    print(\"Student Database:\")\n",
        "    for usn, student_info in database.items():\n",
        "      print(\"USN:\", usn)\n",
        "      print(\"Name:\", student_info['Name'])\n",
        "      print(\"Major:\", student_info['Major'])\n",
        "      print()\n",
        "    else:\n",
        "      print(\"Database is empty\")\n",
        "\n",
        "def Remove_student(database):\n",
        "    #Remove the student from the DB\n",
        "    student_id = input(\"Enter the student USN no to remove:\")\n",
        "    if student_id in database:\n",
        "      del database[student_id]\n",
        "      print(\"Student removed successfully\")\n",
        "    else:\n",
        "      print(\"Student not found in the database\")\n",
        "\n",
        "# Main Program Loop\n",
        "student_database = create_student_database ()\n",
        "\n",
        "while True:\n",
        "  print(\"Student Database Management System\")\n",
        "  print(\"1. Add Student\")\n",
        "  print(\"2. Find Student Information\")\n",
        "  print(\"3. Display Database\")\n",
        "  print(\"4. Delete student\")\n",
        "  print(\"4. Exit\")\n",
        "  choice = input(\"Enter your choice (1/2/3/4/5):\")\n",
        "  if choice == '1':\n",
        "    add_student(student_database)\n",
        "  elif choice == '2':\n",
        "    Find_Student_info(student_database)\n",
        "  elif choice == '3':\n",
        "    display_database(student_database)\n",
        "  elif choice == '4':\n",
        "    Remove_student(student_database)\n",
        "  elif choice == '5':\n",
        "    print(\"Exiting the program. Goodbye!\")\n",
        "    break\n",
        "  else:\n",
        "    print(\"Invalid choice. Please select a valid option (1/2/3/4/5).\")\n",
        "\n"
      ],
      "metadata": {
        "colab": {
          "base_uri": "https://localhost:8080/"
        },
        "id": "n6zn6veMRAIy",
        "outputId": "999f0845-5845-4bcc-d023-785635f71194"
      },
      "execution_count": null,
      "outputs": [
        {
          "output_type": "stream",
          "name": "stdout",
          "text": [
            "Student Database Management System\n",
            "1. Add Student\n",
            "2. Find Student Information\n",
            "3. Display Database\n",
            "4. Delete student\n",
            "4. Exit\n",
            "Enter your choice (1/2/3/4/5):1\n",
            "enter the student usn no100\n",
            "enter the student nameram\n",
            "enter the student majorECE\n",
            "Student added successfully\n",
            "Student Database Management System\n",
            "1. Add Student\n",
            "2. Find Student Information\n",
            "3. Display Database\n",
            "4. Delete student\n",
            "4. Exit\n",
            "Enter your choice (1/2/3/4/5):1\n",
            "enter the student usn no100\n",
            "Student already exists in the database\n",
            "Student Database Management System\n",
            "1. Add Student\n",
            "2. Find Student Information\n",
            "3. Display Database\n",
            "4. Delete student\n",
            "4. Exit\n"
          ]
        }
      ]
    },
    {
      "cell_type": "code",
      "source": [
        "def test1():\n",
        "  l1 = [10, 20, 30,40]\n",
        "  t1 = ( 60,70,80)\n",
        "  return l1, t1\n",
        "\n",
        "u,w = test1()\n",
        "print(u,w)\n",
        "print(u)\n",
        "print(w)\n",
        "print(type(u))\n",
        "print(type(w))"
      ],
      "metadata": {
        "id": "C_aRtdSYkV9U",
        "outputId": "0652989b-fb6e-4880-a950-dcbc7a8881b2",
        "colab": {
          "base_uri": "https://localhost:8080/"
        }
      },
      "execution_count": 2,
      "outputs": [
        {
          "output_type": "stream",
          "name": "stdout",
          "text": [
            "[10, 20, 30, 40] (60, 70, 80)\n",
            "[10, 20, 30, 40]\n",
            "(60, 70, 80)\n",
            "<class 'list'>\n",
            "<class 'tuple'>\n"
          ]
        }
      ]
    },
    {
      "cell_type": "code",
      "source": [
        "def func1(a,b,c,d):\n",
        "  return a,b,c,d\n",
        "\n",
        "_,val2,_,val4 = func1(10,20,30,40)\n",
        "print(val2, val4)"
      ],
      "metadata": {
        "id": "9APqLXekk6nG",
        "outputId": "e97112cd-9f47-4c53-8ca9-92591359e9bc",
        "colab": {
          "base_uri": "https://localhost:8080/"
        }
      },
      "execution_count": 3,
      "outputs": [
        {
          "output_type": "stream",
          "name": "stdout",
          "text": [
            "20 40\n"
          ]
        }
      ]
    }
  ]
}