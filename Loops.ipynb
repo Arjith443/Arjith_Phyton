{
  "nbformat": 4,
  "nbformat_minor": 0,
  "metadata": {
    "colab": {
      "provenance": []
    },
    "kernelspec": {
      "name": "python3",
      "display_name": "Python 3"
    },
    "language_info": {
      "name": "python"
    }
  },
  "cells": [
    {
      "cell_type": "code",
      "execution_count": null,
      "metadata": {
        "colab": {
          "base_uri": "https://localhost:8080/"
        },
        "id": "HpmbKqI7jltH",
        "outputId": "0ec1bf68-5f68-4ec7-f746-ea081ec8cab5"
      },
      "outputs": [
        {
          "output_type": "stream",
          "name": "stdout",
          "text": [
            "hello world\n"
          ]
        }
      ],
      "source": [
        "print(\"hello world\")"
      ]
    },
    {
      "cell_type": "code",
      "source": [
        "some_string = \"Python\"\n",
        "a, b, c, d = some_string"
      ],
      "metadata": {
        "id": "i-GK3T4PlNGO",
        "outputId": "8dac639d-34f2-422d-a238-84293ccfa5f5",
        "colab": {
          "base_uri": "https://localhost:8080/",
          "height": 164
        }
      },
      "execution_count": null,
      "outputs": [
        {
          "output_type": "error",
          "ename": "ValueError",
          "evalue": "too many values to unpack (expected 4)",
          "traceback": [
            "\u001b[0;31m---------------------------------------------------------------------------\u001b[0m",
            "\u001b[0;31mValueError\u001b[0m                                Traceback (most recent call last)",
            "\u001b[0;32m<ipython-input-2-2c3745354f35>\u001b[0m in \u001b[0;36m<cell line: 0>\u001b[0;34m()\u001b[0m\n\u001b[1;32m      1\u001b[0m \u001b[0msome_string\u001b[0m \u001b[0;34m=\u001b[0m \u001b[0;34m\"Python\"\u001b[0m\u001b[0;34m\u001b[0m\u001b[0;34m\u001b[0m\u001b[0m\n\u001b[0;32m----> 2\u001b[0;31m \u001b[0ma\u001b[0m\u001b[0;34m,\u001b[0m \u001b[0mb\u001b[0m\u001b[0;34m,\u001b[0m \u001b[0mc\u001b[0m\u001b[0;34m,\u001b[0m \u001b[0md\u001b[0m \u001b[0;34m=\u001b[0m \u001b[0msome_string\u001b[0m\u001b[0;34m\u001b[0m\u001b[0;34m\u001b[0m\u001b[0m\n\u001b[0m",
            "\u001b[0;31mValueError\u001b[0m: too many values to unpack (expected 4)"
          ]
        }
      ]
    },
    {
      "cell_type": "code",
      "source": [],
      "metadata": {
        "id": "NYLZTzP6lT_L"
      },
      "execution_count": null,
      "outputs": []
    },
    {
      "cell_type": "code",
      "source": [
        "for L in ['H','e']:\n",
        "  print(L)\n"
      ],
      "metadata": {
        "id": "34ZbDQBAxLWX",
        "colab": {
          "base_uri": "https://localhost:8080/"
        },
        "outputId": "3d43fa1b-25e7-46e8-e3af-e8fe33e8af2e"
      },
      "execution_count": null,
      "outputs": [
        {
          "output_type": "stream",
          "name": "stdout",
          "text": [
            "H\n",
            "e\n"
          ]
        }
      ]
    },
    {
      "cell_type": "code",
      "source": [
        "for L in \"Hello\":\n",
        "  print(L)"
      ],
      "metadata": {
        "colab": {
          "base_uri": "https://localhost:8080/"
        },
        "id": "qzOc5N6gpTpu",
        "outputId": "c63e92cb-776d-4725-966d-66b7e89ae31a"
      },
      "execution_count": null,
      "outputs": [
        {
          "output_type": "stream",
          "name": "stdout",
          "text": [
            "H\n",
            "e\n",
            "l\n",
            "l\n",
            "o\n"
          ]
        }
      ]
    },
    {
      "cell_type": "code",
      "source": [
        "#tuble\n",
        "dogs = ('pug','husky','golden')\n",
        "for dog in dogs:\n",
        "  print(dog)"
      ],
      "metadata": {
        "colab": {
          "base_uri": "https://localhost:8080/"
        },
        "id": "QJQn3XdPrlD9",
        "outputId": "38108bd2-9e00-4ef0-97d7-8acccc5e01df"
      },
      "execution_count": null,
      "outputs": [
        {
          "output_type": "stream",
          "name": "stdout",
          "text": [
            "pug\n",
            "husky\n",
            "golden\n"
          ]
        }
      ]
    },
    {
      "cell_type": "code",
      "source": [
        "# tuble of tuble\n",
        "dogs = (('pug','brown'),('husky','black'),('golden','yellow'))\n",
        "for i,(dog,color) in enumerate(dogs):\n",
        "  #print(i,dog,color)\n",
        "  print(\"The dog at index %d is a %s and its colour %s s\" %(i,dog,color))\n"
      ],
      "metadata": {
        "colab": {
          "base_uri": "https://localhost:8080/"
        },
        "id": "C29bl7Odr3sS",
        "outputId": "8963034e-7187-4b8c-83a4-da992dca942b"
      },
      "execution_count": null,
      "outputs": [
        {
          "output_type": "stream",
          "name": "stdout",
          "text": [
            "The dog at index 0 is a pug and its colour brown s\n",
            "The dog at index 1 is a husky and its colour black s\n",
            "The dog at index 2 is a golden and its colour yellow s\n"
          ]
        }
      ]
    },
    {
      "cell_type": "code",
      "source": [
        "#mixed list\n",
        "mixed_list = [145,146,1+3j,True,\"phyton\",(1,-5),[0,1],{\"Class:A\",\"Class:B\"}]\n",
        "for i in mixed_list:\n",
        "  print(i,\"Is\",type(i))\n"
      ],
      "metadata": {
        "colab": {
          "base_uri": "https://localhost:8080/"
        },
        "id": "b-AlRzTXudoL",
        "outputId": "e85d352b-b2aa-445d-aec7-e8ddaee7b59c"
      },
      "execution_count": null,
      "outputs": [
        {
          "output_type": "stream",
          "name": "stdout",
          "text": [
            "145 Is <class 'int'>\n",
            "146 Is <class 'int'>\n",
            "(1+3j) Is <class 'complex'>\n",
            "True Is <class 'bool'>\n",
            "phyton Is <class 'str'>\n",
            "(1, -5) Is <class 'tuple'>\n",
            "[0, 1] Is <class 'list'>\n",
            "{'Class:A', 'Class:B'} Is <class 'set'>\n"
          ]
        }
      ]
    },
    {
      "cell_type": "code",
      "source": [
        "for Country in 'Germany','India':\n",
        "  print(Country)"
      ],
      "metadata": {
        "colab": {
          "base_uri": "https://localhost:8080/"
        },
        "id": "w54XoRDZrKwI",
        "outputId": "975f25a3-dd83-4038-d553-789d976185f8"
      },
      "execution_count": null,
      "outputs": [
        {
          "output_type": "stream",
          "name": "stdout",
          "text": [
            "Germany\n",
            "India\n"
          ]
        }
      ]
    },
    {
      "cell_type": "code",
      "source": [
        "#for with else\n",
        "number = [2,3,4]\n",
        "for num in number:\n",
        "  print(num)\n",
        "else:\n",
        "  print(\"No items left\")"
      ],
      "metadata": {
        "colab": {
          "base_uri": "https://localhost:8080/"
        },
        "id": "lNGTO1gX6Mya",
        "outputId": "3763fa6c-83f6-4802-fba5-b4ae2dadccf8"
      },
      "execution_count": null,
      "outputs": [
        {
          "output_type": "stream",
          "name": "stdout",
          "text": [
            "2\n",
            "3\n",
            "4\n",
            "No items left\n"
          ]
        }
      ]
    },
    {
      "cell_type": "code",
      "source": [
        "#set unordered\n",
        "characters = {'a','b','c','d','e'}\n",
        "for char in characters:\n",
        "  print(char)"
      ],
      "metadata": {
        "colab": {
          "base_uri": "https://localhost:8080/"
        },
        "id": "8LWM-7OK6WRq",
        "outputId": "22ee1858-92a0-484b-9fd9-2a514506d420"
      },
      "execution_count": null,
      "outputs": [
        {
          "output_type": "stream",
          "name": "stdout",
          "text": [
            "c\n",
            "b\n",
            "d\n",
            "e\n",
            "a\n"
          ]
        }
      ]
    },
    {
      "cell_type": "code",
      "source": [
        "# even numbers\n",
        "numbers = [11,12,13,14,15,16]\n",
        "for num in numbers:\n",
        "  if num%2==0:\n",
        "    print(\"even number \",num)\n",
        "  else:\n",
        "    print(\"odd number\",num)"
      ],
      "metadata": {
        "colab": {
          "base_uri": "https://localhost:8080/"
        },
        "id": "w7LYmVs-7JCV",
        "outputId": "e8243001-080c-445f-d35f-7dcadae91779"
      },
      "execution_count": null,
      "outputs": [
        {
          "output_type": "stream",
          "name": "stdout",
          "text": [
            "odd number 11\n",
            "even number  12\n",
            "odd number 13\n",
            "even number  14\n",
            "odd number 15\n",
            "even number  16\n"
          ]
        }
      ]
    },
    {
      "cell_type": "code",
      "source": [
        "#leap year\n",
        "years = [2016,2017,2018]\n",
        "for year in years:\n",
        "  if year%4==0:\n",
        "    print(year,\"is a leap year\")\n",
        "  else:\n",
        "    print(year,\"is not a leap year\")"
      ],
      "metadata": {
        "colab": {
          "base_uri": "https://localhost:8080/"
        },
        "id": "IDeOD3nT76xE",
        "outputId": "fced609c-ddcf-4aad-976b-b80ac79a09b5"
      },
      "execution_count": null,
      "outputs": [
        {
          "output_type": "stream",
          "name": "stdout",
          "text": [
            "2016 is a leap year\n",
            "2017 is not a leap year\n",
            "2018 is not a leap year\n"
          ]
        }
      ]
    },
    {
      "cell_type": "code",
      "source": [
        "#nested for loop\n",
        "name = [['a','b','c'],\n",
        "        ['a','b','c']]\n",
        "for i in name:\n",
        "  for j in i :\n",
        "    print(j)"
      ],
      "metadata": {
        "colab": {
          "base_uri": "https://localhost:8080/"
        },
        "id": "aGECMSfq8gER",
        "outputId": "a0f76bae-2f1c-489b-97fa-bad3ef21cb25"
      },
      "execution_count": null,
      "outputs": [
        {
          "output_type": "stream",
          "name": "stdout",
          "text": [
            "a\n",
            "b\n",
            "c\n",
            "a\n",
            "b\n",
            "c\n"
          ]
        }
      ]
    },
    {
      "cell_type": "code",
      "source": [
        "#range function and assign to tuble set dict\n",
        "myrange = range(5)\n",
        "tuple(myrange)\n",
        "\n",
        "list(myrange)\n",
        "set(myrange)\n",
        "#dict(myrange)"
      ],
      "metadata": {
        "colab": {
          "base_uri": "https://localhost:8080/"
        },
        "id": "5hb8YbgJ9vyj",
        "outputId": "79202667-fd77-4f50-aac7-30aeb28213e7"
      },
      "execution_count": null,
      "outputs": [
        {
          "output_type": "execute_result",
          "data": {
            "text/plain": [
              "{0, 1, 2, 3, 4}"
            ]
          },
          "metadata": {},
          "execution_count": 23
        }
      ]
    },
    {
      "cell_type": "code",
      "source": [
        "for _ in range(10):\n",
        "  print(\"Hello\")"
      ],
      "metadata": {
        "colab": {
          "base_uri": "https://localhost:8080/"
        },
        "id": "B85cybVG_IWy",
        "outputId": "737ca19b-98c0-4029-b06d-e3a1dbbc7c06"
      },
      "execution_count": null,
      "outputs": [
        {
          "output_type": "stream",
          "name": "stdout",
          "text": [
            "Hello\n",
            "Hello\n",
            "Hello\n",
            "Hello\n",
            "Hello\n",
            "Hello\n",
            "Hello\n",
            "Hello\n",
            "Hello\n",
            "Hello\n"
          ]
        }
      ]
    },
    {
      "cell_type": "code",
      "source": [
        "#reversed\n",
        "for i in reversed(range(5)):\n",
        "  print(i)"
      ],
      "metadata": {
        "colab": {
          "base_uri": "https://localhost:8080/"
        },
        "id": "uu6jOQEg_wyi",
        "outputId": "1fcef05c-aab0-4418-a1ef-8eefafbbbfff"
      },
      "execution_count": null,
      "outputs": [
        {
          "output_type": "stream",
          "name": "stdout",
          "text": [
            "4\n",
            "3\n",
            "2\n",
            "1\n",
            "0\n"
          ]
        }
      ]
    },
    {
      "cell_type": "code",
      "source": [
        "#reversed function in string\n",
        "for i in  reversed(\"Hello\"):\n",
        "  print(i)"
      ],
      "metadata": {
        "colab": {
          "base_uri": "https://localhost:8080/"
        },
        "id": "yaJnZagD_7RP",
        "outputId": "5751d343-c03f-4fff-dbdc-328d5d88c21b"
      },
      "execution_count": null,
      "outputs": [
        {
          "output_type": "stream",
          "name": "stdout",
          "text": [
            "o\n",
            "l\n",
            "l\n",
            "e\n",
            "H\n"
          ]
        }
      ]
    },
    {
      "cell_type": "code",
      "source": [
        "#cube of the list\n",
        "original_list = [1,2,3,4,5,6]\n",
        "cublist= []\n",
        "for i in original_list:\n",
        "  cublist.append(i**3)\n",
        "print(cublist)"
      ],
      "metadata": {
        "colab": {
          "base_uri": "https://localhost:8080/"
        },
        "id": "AsQxzAuJCKRp",
        "outputId": "9653d8c3-3a45-4575-fe9b-63f8e6c707ba"
      },
      "execution_count": null,
      "outputs": [
        {
          "output_type": "stream",
          "name": "stdout",
          "text": [
            "[1, 8, 27, 64, 125, 216]\n"
          ]
        }
      ]
    },
    {
      "cell_type": "code",
      "source": [
        "#nested list\n",
        "original_list = [[1,2,3],[4,5,6]]\n",
        "flat_list = []\n",
        "for sublist in original_list:\n",
        "  for num in sublist:\n",
        "    flat_list.append(num)\n",
        "print(flat_list)"
      ],
      "metadata": {
        "colab": {
          "base_uri": "https://localhost:8080/"
        },
        "id": "u3ZdzfUVChNB",
        "outputId": "def0a7b9-db08-46a1-e816-8bc421b18c39"
      },
      "execution_count": null,
      "outputs": [
        {
          "output_type": "stream",
          "name": "stdout",
          "text": [
            "[1, 2, 3, 4, 5, 6]\n"
          ]
        }
      ]
    },
    {
      "cell_type": "code",
      "source": [
        "#leap year in 21th centure using range function\n",
        "Leap_year_range = range(2000,2100,4)\n",
        "print(Leap_year_range)\n",
        "leap_year_list = list(Leap_year_range)\n",
        "\n",
        "print(leap_year_list)\n"
      ],
      "metadata": {
        "colab": {
          "base_uri": "https://localhost:8080/"
        },
        "id": "TxCaRQgvDNT5",
        "outputId": "f34325d1-c7b5-49e0-f4d5-b87e10902056"
      },
      "execution_count": null,
      "outputs": [
        {
          "output_type": "stream",
          "name": "stdout",
          "text": [
            "range(2000, 2100, 4)\n",
            "[2000, 2004, 2008, 2012, 2016, 2020, 2024, 2028, 2032, 2036, 2040, 2044, 2048, 2052, 2056, 2060, 2064, 2068, 2072, 2076, 2080, 2084, 2088, 2092, 2096]\n"
          ]
        }
      ]
    },
    {
      "cell_type": "code",
      "source": [
        "#Nested Dict\n",
        "fruits_Qty_Consume = {\n",
        "    'Banana':{'Fri':30,'Sat':80,'Sun':95},\n",
        "    'Apple':{'Fri':40,'Sat':50,'Sun':65},\n",
        "}\n",
        "fruits_Qty_Consume['Apple']['Sat']"
      ],
      "metadata": {
        "id": "iLOzl8QUo_RS",
        "outputId": "516b800c-0d1e-476e-e5f9-ef4715442fa8",
        "colab": {
          "base_uri": "https://localhost:8080/"
        }
      },
      "execution_count": null,
      "outputs": [
        {
          "output_type": "execute_result",
          "data": {
            "text/plain": [
              "50"
            ]
          },
          "metadata": {},
          "execution_count": 9
        }
      ]
    },
    {
      "cell_type": "code",
      "source": [],
      "metadata": {
        "id": "BL0B6XhuN2C-"
      },
      "execution_count": null,
      "outputs": []
    },
    {
      "cell_type": "code",
      "source": [
        "fruits_Qty_Consume.popitem()\n",
        "fruits_Qty_Consume"
      ],
      "metadata": {
        "id": "TOTcRMzPql4Y",
        "outputId": "9f9df298-735d-4336-919b-fe9e197680bb",
        "colab": {
          "base_uri": "https://localhost:8080/"
        }
      },
      "execution_count": null,
      "outputs": [
        {
          "output_type": "execute_result",
          "data": {
            "text/plain": [
              "{}"
            ]
          },
          "metadata": {},
          "execution_count": 11
        }
      ]
    },
    {
      "cell_type": "code",
      "source": [
        "\n",
        "names_ages = [['John', 35], ['Jill', 38], ['Tim', 27]]\n",
        "to_dict(names_ages)"
      ],
      "metadata": {
        "id": "CUFXjmJJEKkm",
        "outputId": "db88606d-429d-4e1d-abb2-4679944b3caf",
        "colab": {
          "base_uri": "https://localhost:8080/",
          "height": 164
        }
      },
      "execution_count": null,
      "outputs": [
        {
          "output_type": "error",
          "ename": "NameError",
          "evalue": "name 'to_dict' is not defined",
          "traceback": [
            "\u001b[0;31m---------------------------------------------------------------------------\u001b[0m",
            "\u001b[0;31mNameError\u001b[0m                                 Traceback (most recent call last)",
            "\u001b[0;32m<ipython-input-15-f83d54dffd5c>\u001b[0m in \u001b[0;36m<cell line: 0>\u001b[0;34m()\u001b[0m\n\u001b[1;32m      1\u001b[0m \u001b[0mnames_ages\u001b[0m \u001b[0;34m=\u001b[0m \u001b[0;34m[\u001b[0m\u001b[0;34m[\u001b[0m\u001b[0;34m'John'\u001b[0m\u001b[0;34m,\u001b[0m \u001b[0;36m35\u001b[0m\u001b[0;34m]\u001b[0m\u001b[0;34m,\u001b[0m \u001b[0;34m[\u001b[0m\u001b[0;34m'Jill'\u001b[0m\u001b[0;34m,\u001b[0m \u001b[0;36m38\u001b[0m\u001b[0;34m]\u001b[0m\u001b[0;34m,\u001b[0m \u001b[0;34m[\u001b[0m\u001b[0;34m'Tim'\u001b[0m\u001b[0;34m,\u001b[0m \u001b[0;36m27\u001b[0m\u001b[0;34m]\u001b[0m\u001b[0;34m]\u001b[0m\u001b[0;34m\u001b[0m\u001b[0;34m\u001b[0m\u001b[0m\n\u001b[0;32m----> 2\u001b[0;31m \u001b[0mto_dict\u001b[0m\u001b[0;34m(\u001b[0m\u001b[0mnames_ages\u001b[0m\u001b[0;34m)\u001b[0m\u001b[0;34m\u001b[0m\u001b[0;34m\u001b[0m\u001b[0m\n\u001b[0m",
            "\u001b[0;31mNameError\u001b[0m: name 'to_dict' is not defined"
          ]
        }
      ]
    },
    {
      "cell_type": "code",
      "source": [
        "def a_more_completed_Function():\n",
        "  for i in range(6):\n",
        "    print(i)\n",
        "\n",
        "a_more_completed_Function()\n"
      ],
      "metadata": {
        "id": "ytpiQHFmRVdt",
        "outputId": "8259fe20-a8f6-4851-a9fe-3a2dca1dcc20",
        "colab": {
          "base_uri": "https://localhost:8080/"
        }
      },
      "execution_count": 1,
      "outputs": [
        {
          "output_type": "stream",
          "name": "stdout",
          "text": [
            "0\n",
            "1\n",
            "2\n",
            "3\n",
            "4\n",
            "5\n"
          ]
        }
      ]
    },
    {
      "cell_type": "code",
      "source": [
        "a_more_completed_Function()"
      ],
      "metadata": {
        "id": "uokxuJuIRuAo",
        "outputId": "6ddf99f5-85aa-47d0-ff7c-52956b87ea8e",
        "colab": {
          "base_uri": "https://localhost:8080/"
        }
      },
      "execution_count": 2,
      "outputs": [
        {
          "output_type": "stream",
          "name": "stdout",
          "text": [
            "0\n",
            "1\n",
            "2\n",
            "3\n",
            "4\n",
            "5\n"
          ]
        }
      ]
    }
  ]
}