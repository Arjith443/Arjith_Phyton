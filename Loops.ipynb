{
  "nbformat": 4,
  "nbformat_minor": 0,
  "metadata": {
    "colab": {
      "provenance": []
    },
    "kernelspec": {
      "name": "python3",
      "display_name": "Python 3"
    },
    "language_info": {
      "name": "python"
    }
  },
  "cells": [
    {
      "cell_type": "code",
      "execution_count": null,
      "metadata": {
        "colab": {
          "base_uri": "https://localhost:8080/"
        },
        "id": "HpmbKqI7jltH",
        "outputId": "0ec1bf68-5f68-4ec7-f746-ea081ec8cab5"
      },
      "outputs": [
        {
          "output_type": "stream",
          "name": "stdout",
          "text": [
            "hello world\n"
          ]
        }
      ],
      "source": [
        "print(\"hello world\")"
      ]
    },
    {
      "cell_type": "code",
      "source": [
        "for L in ['H','e']:\n",
        "  print(L)\n",
        ""
      ],
      "metadata": {
        "id": "34ZbDQBAxLWX",
        "colab": {
          "base_uri": "https://localhost:8080/"
        },
        "outputId": "3d43fa1b-25e7-46e8-e3af-e8fe33e8af2e"
      },
      "execution_count": 1,
      "outputs": [
        {
          "output_type": "stream",
          "name": "stdout",
          "text": [
            "H\n",
            "e\n"
          ]
        }
      ]
    },
    {
      "cell_type": "code",
      "source": [
        "for L in \"Hello\":\n",
        "  print(L)"
      ],
      "metadata": {
        "colab": {
          "base_uri": "https://localhost:8080/"
        },
        "id": "qzOc5N6gpTpu",
        "outputId": "c63e92cb-776d-4725-966d-66b7e89ae31a"
      },
      "execution_count": 2,
      "outputs": [
        {
          "output_type": "stream",
          "name": "stdout",
          "text": [
            "H\n",
            "e\n",
            "l\n",
            "l\n",
            "o\n"
          ]
        }
      ]
    },
    {
      "cell_type": "code",
      "source": [
        "#tuble\n",
        "dogs = ('pug','husky','golden')\n",
        "for dog in dogs:\n",
        "  print(dog)"
      ],
      "metadata": {
        "colab": {
          "base_uri": "https://localhost:8080/"
        },
        "id": "QJQn3XdPrlD9",
        "outputId": "38108bd2-9e00-4ef0-97d7-8acccc5e01df"
      },
      "execution_count": 4,
      "outputs": [
        {
          "output_type": "stream",
          "name": "stdout",
          "text": [
            "pug\n",
            "husky\n",
            "golden\n"
          ]
        }
      ]
    },
    {
      "cell_type": "code",
      "source": [
        "# tuble of tuble\n",
        "dogs = (('pug','brown'),('husky','black'),('golden','yellow'))\n",
        "for i,(dog,color) in enumerate(dogs):\n",
        "  #print(i,dog,color)\n",
        "  print(\"The dog at index %d is a %s and its colour %s s\" %(i,dog,color))\n"
      ],
      "metadata": {
        "colab": {
          "base_uri": "https://localhost:8080/"
        },
        "id": "C29bl7Odr3sS",
        "outputId": "8963034e-7187-4b8c-83a4-da992dca942b"
      },
      "execution_count": 9,
      "outputs": [
        {
          "output_type": "stream",
          "name": "stdout",
          "text": [
            "The dog at index 0 is a pug and its colour brown s\n",
            "The dog at index 1 is a husky and its colour black s\n",
            "The dog at index 2 is a golden and its colour yellow s\n"
          ]
        }
      ]
    },
    {
      "cell_type": "code",
      "source": [
        "#mixed list\n",
        "mixed_list = [145,146,1+3j,True,\"phyton\",(1,-5),[0,1],{\"Class:A\",\"Class:B\"}]\n",
        "for i in mixed_list:\n",
        "  print(i,\"Is\",type(i))\n"
      ],
      "metadata": {
        "id": "b-AlRzTXudoL",
        "outputId": "e85d352b-b2aa-445d-aec7-e8ddaee7b59c",
        "colab": {
          "base_uri": "https://localhost:8080/"
        }
      },
      "execution_count": 11,
      "outputs": [
        {
          "output_type": "stream",
          "name": "stdout",
          "text": [
            "145 Is <class 'int'>\n",
            "146 Is <class 'int'>\n",
            "(1+3j) Is <class 'complex'>\n",
            "True Is <class 'bool'>\n",
            "phyton Is <class 'str'>\n",
            "(1, -5) Is <class 'tuple'>\n",
            "[0, 1] Is <class 'list'>\n",
            "{'Class:A', 'Class:B'} Is <class 'set'>\n"
          ]
        }
      ]
    },
    {
      "cell_type": "code",
      "source": [
        "for Country in 'Germany','India':\n",
        "  print(Country)"
      ],
      "metadata": {
        "colab": {
          "base_uri": "https://localhost:8080/"
        },
        "id": "w54XoRDZrKwI",
        "outputId": "975f25a3-dd83-4038-d553-789d976185f8"
      },
      "execution_count": 3,
      "outputs": [
        {
          "output_type": "stream",
          "name": "stdout",
          "text": [
            "Germany\n",
            "India\n"
          ]
        }
      ]
    }
  ]
}